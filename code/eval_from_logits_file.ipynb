{
 "cells": [
  {
   "cell_type": "code",
   "execution_count": 144,
   "id": "charged-medicare",
   "metadata": {},
   "outputs": [],
   "source": [
    "import torch\n",
    "import numpy as np"
   ]
  },
  {
   "cell_type": "code",
   "execution_count": 9,
   "id": "smaller-patent",
   "metadata": {},
   "outputs": [
    {
     "name": "stdout",
     "output_type": "stream",
     "text": [
      "torch.Size([10000, 1000]) torch.Size([10000])\n",
      "torch.Size([50889, 1000]) torch.Size([50889])\n",
      "torch.Size([30000, 200]) torch.Size([30000])\n",
      "torch.Size([7500, 200]) torch.Size([7500])\n"
     ]
    }
   ],
   "source": [
    "for ds in ['v2', 'sketch', 'rend', 'adv']:\n",
    "    inv69 = torch.load(f\"./logits_files/inv69_eval_on_{ds}.pth\")\n",
    "    tar = torch.load(f\"./logits_files/{ds}_targets.pth\")\n",
    "    print(inv69.shape, tar.shape)"
   ]
  },
  {
   "cell_type": "code",
   "execution_count": 145,
   "id": "108ec13d",
   "metadata": {},
   "outputs": [],
   "source": [
    "class _ECELoss(torch.nn.Module):\n",
    "\n",
    "    def __init__(self, n_bins=15):\n",
    "        \"\"\"\n",
    "        n_bins (int): number of confidence interval bins\n",
    "        \"\"\"\n",
    "        super(_ECELoss, self).__init__()\n",
    "        bin_boundaries = torch.linspace(0, 1, n_bins + 1)\n",
    "        self.bin_lowers = bin_boundaries[:-1]\n",
    "        self.bin_uppers = bin_boundaries[1:]\n",
    "\n",
    "    def forward(self, softmaxes, labels):\n",
    "#         softmaxes = F.softmax(logits, dim=1)\n",
    "        confidences, predictions = torch.max(softmaxes, 1)\n",
    "        accuracies = predictions.eq(labels)\n",
    "\n",
    "        ece = torch.zeros(1, device=softmaxes.device)\n",
    "        for bin_lower, bin_upper in zip(self.bin_lowers, self.bin_uppers):\n",
    "            # Calculated |confidence - accuracy| in each bin\n",
    "            in_bin = confidences.gt(bin_lower.item()) * confidences.le(bin_upper.item())\n",
    "            prop_in_bin = in_bin.float().mean()\n",
    "            if prop_in_bin.item() > 0:\n",
    "                accuracy_in_bin = accuracies[in_bin].float().mean()\n",
    "                avg_confidence_in_bin = confidences[in_bin].mean()\n",
    "                ece += torch.abs(avg_confidence_in_bin - accuracy_in_bin) * prop_in_bin\n",
    "\n",
    "        return ece\n",
    "ece_criterion = _ECELoss(n_bins=15).cuda()"
   ]
  },
  {
   "cell_type": "code",
   "execution_count": 146,
   "id": "dangerous-observer",
   "metadata": {},
   "outputs": [],
   "source": [
    "import torch.nn.functional as F\n",
    "import inspect\n",
    "from netcal.metrics import ECE\n",
    "\n",
    "cecriterion = torch.nn.CrossEntropyLoss().cuda()\n",
    "nll_criterion = torch.nn.CrossEntropyLoss().cuda()\n",
    "\n",
    "def get_metrics(outs, tars, names, printing=True, input_softmax=False, num_classes=1000):\n",
    "    losses = []\n",
    "    eces = []\n",
    "    accs = []\n",
    "    acc_pcs = []\n",
    "    for out, tar,name in zip(outs,tars,names):\n",
    "        ece_netcal = ECE(15)\n",
    "        \n",
    "        out = out.cpu()\n",
    "        tar = tar.cpu()\n",
    "        correct_per_class = torch.zeros(num_classes).to(tar.device)\n",
    "        total_per_class = torch.zeros(num_classes).to(tar.device)\n",
    "\n",
    "        if not input_softmax:\n",
    "            out = out.softmax(-1)\n",
    "        ece1 = ece_netcal.measure(out.numpy(), tar.numpy())\n",
    "        ece2 = ece_criterion(out, tar)\n",
    "        \n",
    "        loss = F.nll_loss(torch.log(out), tar)\n",
    "        _, pred = out.max(-1)\n",
    "        correct_vec = (pred == tar)\n",
    "        ind_per_class = (tar.unsqueeze(1) == torch.arange(num_classes).to(tar.device)) # indicator variable for each class\n",
    "        correct_per_class = (correct_vec.unsqueeze(1) * ind_per_class).sum(0)\n",
    "        total_per_class = ind_per_class.sum(0)\n",
    "\n",
    "        acc = (correct_vec.sum()) / len(tar)\n",
    "        acc_per_class = correct_per_class / total_per_class\n",
    "        if printing:\n",
    "            print(name)\n",
    "            print(f\"NLL: {loss.item()} | ECE: {ece1} | ECE: {ece2}\")\n",
    "            print(\"Acc:\", acc.item())\n",
    "        losses.append(loss.item())\n",
    "        eces.append(ece1)\n",
    "        accs.append(acc.item())\n",
    "        acc_pcs.append(acc_per_class)\n",
    "    return losses, eces, accs, acc_pcs\n",
    "\n",
    "def ensem_BEI(all_eq,all_base,all_inv,same_tar,num_E=0, num_B=0, num_I=0, num_comb=5, err='std'):\n",
    "    ee_nll = []\n",
    "    ee_ece = []\n",
    "    ee_acc = []\n",
    "    ee_auuqc = []\n",
    "    for i in range(num_comb):\n",
    "        eq_list = []\n",
    "        base_list = []\n",
    "        inv_list = []\n",
    "        \n",
    "        eq_choice = np.random.choice(len(all_eq), num_E, replace=False)\n",
    "        for ind in eq_choice:\n",
    "            eq_list.append(all_eq[ind])\n",
    "        \n",
    "        base_choice = np.random.choice(len(all_base), num_B, replace=False)\n",
    "        for ind in base_choice:\n",
    "            base_list.append(all_base[ind])\n",
    "        \n",
    "        inv_choice = np.random.choice(len(all_inv), num_I, replace=False)\n",
    "        for ind in inv_choice:\n",
    "            inv_list.append(all_inv[ind])\n",
    "        \n",
    "        out_list = list(eq_list) + list(base_list) + list(inv_list)\n",
    "        out_list = [torch.Tensor(x.cpu()) for x in out_list]\n",
    "        ee_out = torch.stack(out_list).softmax(-1).mean(dim=0).cuda()\n",
    "        nll, ece, acc, _ = get_metrics([ee_out],[same_tar],[f'EE_comb{i}'], printing=False, input_softmax=True)    \n",
    "        ee_nll.append(nll)\n",
    "        ee_ece.append(ece)  \n",
    "        ee_acc.append(acc)\n",
    "        x1, acc1, auuqc1 = get_ROC([model1.softmax(-1) for model1 in out_list], same_tar)\n",
    "        ee_auuqc.append(auuqc1)\n",
    "        \n",
    "    print(\"E\"*num_E + \"B\"*num_B + \"I\"*num_I)\n",
    "    if err=='std':\n",
    "        print(f\"NLL: {np.mean(ee_nll):.4f} +/- {np.std(ee_nll):.4f}\")\n",
    "        print(f\"ECE: {np.mean(ee_ece):.4f} +/- {np.std(ee_ece):.4f}\")\n",
    "        print(f\"Acc: {np.mean(ee_acc):.4f} +/- {np.std(ee_acc):.4f}\")\n",
    "        print(f\"AUUQC: {np.mean(ee_auuqc):.6f} +/- {np.std(ee_auuqc):.6f}\")\n",
    "        \n",
    "    elif err=='var':\n",
    "        print(f\"NLL: {np.mean(ee_nll):.4f} +/- {np.var(ee_nll):.4f}\")\n",
    "        print(f\"ECE: {np.mean(ee_ece):.4f} +/- {np.var(ee_ece):.4f}\")\n",
    "        print(f\"Acc: {np.mean(ee_acc):.4f} +/- {np.var(ee_acc):.4f}\")\n",
    "        print(f\"AUUQC: {np.mean(ee_auuqc):.6f} +/- {np.std(ee_auuqc):.6f}\")\n",
    "\n",
    "        \n",
    "def get_classwise_IE(acc_rotinv, acc_roteq, num_classes=1000):\n",
    "    print(\"use order I, E\")\n",
    "    y = torch.stack([v for v in [acc_rotinv, acc_roteq]], dim=-1)\n",
    "\n",
    "    fac = num_classes/100\n",
    "    best_inv_eq = (y[:,0] == y[:,1])\n",
    "    print(f\"all equal best: {(best_inv_eq.sum())/fac:.1f}%\")\n",
    "\n",
    "    i_uniq = (y[:,0] > y[:,1]) \n",
    "    e_uniq = (y[:,1] > y[:,0]) \n",
    "\n",
    "    # single model uniquely best\n",
    "    print(f\"I uniquely best: {i_uniq.sum()/fac:.1f}%\")\n",
    "    print(f\"E uniquely best: {e_uniq.sum()/fac:.1f}%\")\n",
    "    \n",
    "def get_classwise(acc_base, acc_rotinv, acc_roteq, num_classes=1000):\n",
    "    print(\"use order B, I, E\")\n",
    "    y = torch.stack([v for v in [acc_base, acc_rotinv, acc_roteq]], dim=-1)\n",
    "\n",
    "    fac = num_classes/100\n",
    "    # all 3 models equally good\n",
    "    best_base_inv_eq = (y[:,0] == y[:,1]) & (y[:,1] == y[:,2])\n",
    "    # 2 models equally good and is better\n",
    "    best_base_inv = (y[:,0] == y[:,1]) & (y[:,0] > y[:,2])\n",
    "    best_base_eq = (y[:,0] == y[:,2]) & (y[:,0] > y[:,1])\n",
    "    best_inv_eq = (y[:,1] == y[:,2]) & (y[:,1] > y[:,0])\n",
    "    # 2 models equally good and is worse\n",
    "    worse_base_inv = (y[:,0] == y[:,1]) & (y[:,0] < y[:,2]) # best eq\n",
    "    worse_base_eq = (y[:,0] == y[:,2]) & (y[:,0] < y[:,1]) # best inv\n",
    "    worse_inv_eq = (y[:,1] == y[:,2]) & (y[:,1] < y[:,0]) # best base\n",
    "    all_diff = (y[:,0] != y[:,1]) & (y[:,1] != y[:,2]) & (y[:,0] != y[:,2])\n",
    "    print(f\"all equal best: {(best_base_inv_eq.sum())/fac:.1f}%\")\n",
    "    print(f\"B,I equal best: {(best_base_inv.sum())/fac:.1f}%\")\n",
    "    print(f\"B,E equal best: {(best_base_eq.sum())/fac:.1f}%\")\n",
    "    print(f\"I,E equal best: {(best_inv_eq.sum())/fac:.1f}%\")\n",
    "    # print(f\"all diff: {all_diff.sum()}\")\n",
    "    total = best_base_inv_eq.sum() + best_base_inv.sum() + best_base_eq.sum() + best_inv_eq.sum() + all_diff.sum() + worse_inv_eq.sum() + worse_base_eq.sum() + worse_base_inv.sum()\n",
    "    assert total == num_classes\n",
    "\n",
    "    # for all diff \n",
    "    best_base = (y[:,0] > y[:,1]) & (y[:,0] > y[:,2]) & all_diff\n",
    "    best_inv = (y[:,1] > y[:,0]) & (y[:,1] > y[:,2]) & all_diff\n",
    "    best_eq = (y[:,2] > y[:,0]) & (y[:,2] > y[:,1]) & all_diff\n",
    "    total_unique = best_base.sum()+best_inv.sum()+best_eq.sum()\n",
    "    assert total_unique == all_diff.sum()\n",
    "\n",
    "    # single model uniquely best\n",
    "    b_uniq = best_base | worse_inv_eq\n",
    "    i_uniq = best_inv | worse_base_eq\n",
    "    e_uniq = best_eq | worse_base_inv\n",
    "    print(f\"B uniquely best: {b_uniq.sum()/fac:.1f}%\")\n",
    "    print(f\"I uniquely best: {(best_inv.sum() + worse_base_eq.sum())/fac:.1f}%\")\n",
    "    print(f\"E uniquely best: {(best_eq.sum() + worse_base_inv.sum())/fac:.1f}%\")\n",
    "\n",
    "    B_good = b_uniq | best_base_inv_eq | best_base_inv | best_base_eq\n",
    "    I_good = i_uniq | best_base_inv_eq | best_base_inv | best_inv_eq\n",
    "    E_good = e_uniq | best_base_inv_eq | best_base_eq | best_inv_eq"
   ]
  },
  {
   "cell_type": "code",
   "execution_count": 147,
   "id": "2189dbff",
   "metadata": {},
   "outputs": [],
   "source": [
    "sup_m1 = torch.load(f\"./logits_files/sup/m1.pth\")\n",
    "sup_m2 = torch.load(f\"./logits_files/sup/m2.pth\")\n",
    "sup_m3 = torch.load(f\"./logits_files/sup/m3.pth\")\n",
    "tar = torch.load(f\"./logits_files/sup/M_targets.pth\")"
   ]
  },
  {
   "cell_type": "code",
   "execution_count": 69,
   "id": "44118bb5",
   "metadata": {},
   "outputs": [
    {
     "name": "stdout",
     "output_type": "stream",
     "text": [
      "avg pred m=2\n",
      "NLL: 0.9027076363563538 | ECE: 0.02221453717611731 | ECE: tensor([0.0833])\n",
      "Acc: 0.7694799900054932\n",
      "avg pred m=3\n",
      "NLL: 0.8796709179878235 | ECE: 0.028206111089512695 | ECE: tensor([0.0845])\n",
      "Acc: 0.7749000191688538\n"
     ]
    }
   ],
   "source": [
    "ensem2 = torch.stack([sup_m1.softmax(-1),sup_m3.softmax(-1)]).mean(dim=0)\n",
    "ensem3 = torch.stack([sup_m1.softmax(-1),sup_m3.softmax(-1),sup_m2.softmax(-1)]).mean(dim=0)\n",
    "_,_,_,all_eq_pcs = get_metrics([ensem2], [tar], ['avg pred m=2'], printing=True, input_softmax=True, num_classes=1000)\n",
    "_,_,_,all_eq_pcs = get_metrics([ensem3], [tar], ['avg pred m=3'], printing=True, input_softmax=True, num_classes=1000)\n"
   ]
  },
  {
   "cell_type": "code",
   "execution_count": 67,
   "id": "f2a7301e",
   "metadata": {},
   "outputs": [
    {
     "name": "stdout",
     "output_type": "stream",
     "text": [
      "m1\n",
      "NLL: 0.9945077896118164 | ECE: 0.017894353618584557 | ECE: tensor([0.0857])\n",
      "Acc: 0.7483199834823608\n",
      "m2\n",
      "NLL: 0.978050708770752 | ECE: 0.026608838295154296 | ECE: tensor([0.0862])\n",
      "Acc: 0.7536600232124329\n",
      "m3\n",
      "NLL: 0.9501649737358093 | ECE: 0.027173212837912165 | ECE: tensor([0.0845])\n",
      "Acc: 0.7605800032615662\n"
     ]
    },
    {
     "ename": "AssertionError",
     "evalue": "Unequal number of samples given in X and y.",
     "output_type": "error",
     "traceback": [
      "\u001b[0;31m---------------------------------------------------------------------------\u001b[0m",
      "\u001b[0;31mAssertionError\u001b[0m                            Traceback (most recent call last)",
      "Input \u001b[0;32mIn [67]\u001b[0m, in \u001b[0;36m<cell line: 9>\u001b[0;34m()\u001b[0m\n\u001b[1;32m      5\u001b[0m _,_,_,all_eq_pcs \u001b[38;5;241m=\u001b[39m get_metrics(all_, tars, names, printing\u001b[38;5;241m=\u001b[39m\u001b[38;5;28;01mTrue\u001b[39;00m, input_softmax\u001b[38;5;241m=\u001b[39m\u001b[38;5;28;01mFalse\u001b[39;00m, num_classes\u001b[38;5;241m=\u001b[39m\u001b[38;5;241m1000\u001b[39m)\n\u001b[1;32m      7\u001b[0m \u001b[38;5;66;03m# _,_,_,all_eq_pcs = get_metrics([(sup_m2.softmax(-1)+sup_m3.softmax(-1))/2], [tar], ['m=2'], printing=True, input_softmax=True, num_classes=1000)\u001b[39;00m\n\u001b[0;32m----> 9\u001b[0m _,_,_,all_eq_pcs \u001b[38;5;241m=\u001b[39m \u001b[43mget_metrics\u001b[49m\u001b[43m(\u001b[49m\u001b[43m[\u001b[49m\u001b[43m(\u001b[49m\u001b[43m(\u001b[49m\u001b[43msup_m1\u001b[49m\u001b[38;5;241;43m.\u001b[39;49m\u001b[43msoftmax\u001b[49m\u001b[43m(\u001b[49m\u001b[38;5;241;43m-\u001b[39;49m\u001b[38;5;241;43m1\u001b[39;49m\u001b[43m)\u001b[49m\u001b[38;5;241;43m+\u001b[39;49m\u001b[43msup_m3\u001b[49m\u001b[38;5;241;43m.\u001b[39;49m\u001b[43msoftmax\u001b[49m\u001b[43m(\u001b[49m\u001b[38;5;241;43m-\u001b[39;49m\u001b[38;5;241;43m1\u001b[39;49m\u001b[43m)\u001b[49m\u001b[43m)\u001b[49m\u001b[38;5;241;43m.\u001b[39;49m\u001b[43mmean\u001b[49m\u001b[43m(\u001b[49m\u001b[43mdim\u001b[49m\u001b[38;5;241;43m=\u001b[39;49m\u001b[38;5;241;43m0\u001b[39;49m\u001b[43m)\u001b[49m\u001b[43m)\u001b[49m\u001b[43m]\u001b[49m\u001b[43m,\u001b[49m\u001b[43m \u001b[49m\u001b[43m[\u001b[49m\u001b[43mtar\u001b[49m\u001b[43m]\u001b[49m\u001b[43m,\u001b[49m\u001b[43m \u001b[49m\u001b[43m[\u001b[49m\u001b[38;5;124;43m'\u001b[39;49m\u001b[38;5;124;43mavg pred m=2\u001b[39;49m\u001b[38;5;124;43m'\u001b[39;49m\u001b[43m]\u001b[49m\u001b[43m,\u001b[49m\u001b[43m \u001b[49m\u001b[43mprinting\u001b[49m\u001b[38;5;241;43m=\u001b[39;49m\u001b[38;5;28;43;01mTrue\u001b[39;49;00m\u001b[43m,\u001b[49m\u001b[43m \u001b[49m\u001b[43minput_softmax\u001b[49m\u001b[38;5;241;43m=\u001b[39;49m\u001b[38;5;28;43;01mTrue\u001b[39;49;00m\u001b[43m,\u001b[49m\u001b[43m \u001b[49m\u001b[43mnum_classes\u001b[49m\u001b[38;5;241;43m=\u001b[39;49m\u001b[38;5;241;43m1000\u001b[39;49m\u001b[43m)\u001b[49m\n\u001b[1;32m     10\u001b[0m _,_,_,all_eq_pcs \u001b[38;5;241m=\u001b[39m get_metrics([((sup_m1\u001b[38;5;241m.\u001b[39msoftmax(\u001b[38;5;241m-\u001b[39m\u001b[38;5;241m1\u001b[39m)\u001b[38;5;241m+\u001b[39msup_m3\u001b[38;5;241m.\u001b[39msoftmax(\u001b[38;5;241m-\u001b[39m\u001b[38;5;241m1\u001b[39m)\u001b[38;5;241m+\u001b[39msup_m2\u001b[38;5;241m.\u001b[39msoftmax(\u001b[38;5;241m-\u001b[39m\u001b[38;5;241m1\u001b[39m))\u001b[38;5;241m.\u001b[39mmean(dim\u001b[38;5;241m=\u001b[39m\u001b[38;5;241m0\u001b[39m))], [tar], [\u001b[38;5;124m'\u001b[39m\u001b[38;5;124mavg pred m=3\u001b[39m\u001b[38;5;124m'\u001b[39m], printing\u001b[38;5;241m=\u001b[39m\u001b[38;5;28;01mTrue\u001b[39;00m, input_softmax\u001b[38;5;241m=\u001b[39m\u001b[38;5;28;01mTrue\u001b[39;00m, num_classes\u001b[38;5;241m=\u001b[39m\u001b[38;5;241m1000\u001b[39m)\n\u001b[1;32m     12\u001b[0m _,_,_,all_eq_pcs \u001b[38;5;241m=\u001b[39m get_metrics([((sup_m1\u001b[38;5;241m+\u001b[39msup_m2)\u001b[38;5;241m/\u001b[39m\u001b[38;5;241m2\u001b[39m)\u001b[38;5;241m.\u001b[39msoftmax(\u001b[38;5;241m-\u001b[39m\u001b[38;5;241m1\u001b[39m)], [tar], [\u001b[38;5;124m'\u001b[39m\u001b[38;5;124mavg logits m=2\u001b[39m\u001b[38;5;124m'\u001b[39m], printing\u001b[38;5;241m=\u001b[39m\u001b[38;5;28;01mTrue\u001b[39;00m, input_softmax\u001b[38;5;241m=\u001b[39m\u001b[38;5;28;01mTrue\u001b[39;00m, num_classes\u001b[38;5;241m=\u001b[39m\u001b[38;5;241m1000\u001b[39m)\n",
      "Input \u001b[0;32mIn [62]\u001b[0m, in \u001b[0;36mget_metrics\u001b[0;34m(outs, tars, names, printing, input_softmax, num_classes)\u001b[0m\n\u001b[1;32m     21\u001b[0m \u001b[38;5;28;01mif\u001b[39;00m \u001b[38;5;129;01mnot\u001b[39;00m input_softmax:\n\u001b[1;32m     22\u001b[0m     out \u001b[38;5;241m=\u001b[39m out\u001b[38;5;241m.\u001b[39msoftmax(\u001b[38;5;241m-\u001b[39m\u001b[38;5;241m1\u001b[39m)\n\u001b[0;32m---> 23\u001b[0m ece1 \u001b[38;5;241m=\u001b[39m \u001b[43mece_netcal\u001b[49m\u001b[38;5;241;43m.\u001b[39;49m\u001b[43mmeasure\u001b[49m\u001b[43m(\u001b[49m\u001b[43mout\u001b[49m\u001b[38;5;241;43m.\u001b[39;49m\u001b[43mnumpy\u001b[49m\u001b[43m(\u001b[49m\u001b[43m)\u001b[49m\u001b[43m,\u001b[49m\u001b[43m \u001b[49m\u001b[43mtar\u001b[49m\u001b[38;5;241;43m.\u001b[39;49m\u001b[43mnumpy\u001b[49m\u001b[43m(\u001b[49m\u001b[43m)\u001b[49m\u001b[43m)\u001b[49m\n\u001b[1;32m     24\u001b[0m ece2 \u001b[38;5;241m=\u001b[39m ece_criterion(out, tar)\n\u001b[1;32m     26\u001b[0m loss \u001b[38;5;241m=\u001b[39m F\u001b[38;5;241m.\u001b[39mnll_loss(torch\u001b[38;5;241m.\u001b[39mlog(out), tar)\n",
      "File \u001b[0;32m~/.local/lib/python3.8/site-packages/netcal/metrics/confidence/ECE.py:115\u001b[0m, in \u001b[0;36mECE.measure\u001b[0;34m(self, X, y, batched, uncertainty, return_map, return_num_samples, return_uncertainty_map)\u001b[0m\n\u001b[1;32m     57\u001b[0m \u001b[38;5;28;01mdef\u001b[39;00m \u001b[38;5;21mmeasure\u001b[39m(\n\u001b[1;32m     58\u001b[0m         \u001b[38;5;28mself\u001b[39m,\n\u001b[1;32m     59\u001b[0m         X: Union[Iterable[np\u001b[38;5;241m.\u001b[39mndarray], np\u001b[38;5;241m.\u001b[39mndarray],\n\u001b[0;32m   (...)\u001b[0m\n\u001b[1;32m     65\u001b[0m         return_uncertainty_map: \u001b[38;5;28mbool\u001b[39m \u001b[38;5;241m=\u001b[39m \u001b[38;5;28;01mFalse\u001b[39;00m\n\u001b[1;32m     66\u001b[0m ) \u001b[38;5;241m-\u001b[39m\u001b[38;5;241m>\u001b[39m Union[\u001b[38;5;28mfloat\u001b[39m, Tuple]:\n\u001b[1;32m     67\u001b[0m     \u001b[38;5;124;03m\"\"\"\u001b[39;00m\n\u001b[1;32m     68\u001b[0m \u001b[38;5;124;03m    Measure calibration by given predictions with confidence and the according ground truth.\u001b[39;00m\n\u001b[1;32m     69\u001b[0m \u001b[38;5;124;03m    Assume binary predictions with y=1.\u001b[39;00m\n\u001b[0;32m   (...)\u001b[0m\n\u001b[1;32m    112\u001b[0m \u001b[38;5;124;03m        If 'return_uncertainty' is True, return tuple and append the average standard deviation of confidence within each bin (excluding confidence dimension).\u001b[39;00m\n\u001b[1;32m    113\u001b[0m \u001b[38;5;124;03m    \"\"\"\u001b[39;00m\n\u001b[0;32m--> 115\u001b[0m     \u001b[38;5;28;01mreturn\u001b[39;00m \u001b[38;5;28;43mself\u001b[39;49m\u001b[38;5;241;43m.\u001b[39;49m\u001b[43m_measure\u001b[49m\u001b[43m(\u001b[49m\n\u001b[1;32m    116\u001b[0m \u001b[43m        \u001b[49m\u001b[43mX\u001b[49m\u001b[38;5;241;43m=\u001b[39;49m\u001b[43mX\u001b[49m\u001b[43m,\u001b[49m\u001b[43m \u001b[49m\u001b[43my\u001b[49m\u001b[38;5;241;43m=\u001b[39;49m\u001b[43my\u001b[49m\u001b[43m,\u001b[49m\u001b[43m \u001b[49m\u001b[43mmetric\u001b[49m\u001b[38;5;241;43m=\u001b[39;49m\u001b[38;5;124;43m'\u001b[39;49m\u001b[38;5;124;43mece\u001b[39;49m\u001b[38;5;124;43m'\u001b[39;49m\u001b[43m,\u001b[49m\u001b[43m \u001b[49m\u001b[43mbatched\u001b[49m\u001b[38;5;241;43m=\u001b[39;49m\u001b[43mbatched\u001b[49m\u001b[43m,\u001b[49m\u001b[43m \u001b[49m\u001b[43muncertainty\u001b[49m\u001b[38;5;241;43m=\u001b[39;49m\u001b[43muncertainty\u001b[49m\u001b[43m,\u001b[49m\n\u001b[1;32m    117\u001b[0m \u001b[43m        \u001b[49m\u001b[43mreturn_map\u001b[49m\u001b[38;5;241;43m=\u001b[39;49m\u001b[43mreturn_map\u001b[49m\u001b[43m,\u001b[49m\n\u001b[1;32m    118\u001b[0m \u001b[43m        \u001b[49m\u001b[43mreturn_num_samples\u001b[49m\u001b[38;5;241;43m=\u001b[39;49m\u001b[43mreturn_num_samples\u001b[49m\u001b[43m,\u001b[49m\n\u001b[1;32m    119\u001b[0m \u001b[43m        \u001b[49m\u001b[43mreturn_uncertainty_map\u001b[49m\u001b[38;5;241;43m=\u001b[39;49m\u001b[43mreturn_uncertainty_map\u001b[49m\n\u001b[1;32m    120\u001b[0m \u001b[43m    \u001b[49m\u001b[43m)\u001b[49m\n",
      "File \u001b[0;32m~/.local/lib/python3.8/site-packages/netcal/metrics/Miscalibration.py:653\u001b[0m, in \u001b[0;36m_Miscalibration._measure\u001b[0;34m(self, X, y, metric, batched, uncertainty, return_map, return_num_samples, return_uncertainty_map)\u001b[0m\n\u001b[1;32m    650\u001b[0m     metric \u001b[38;5;241m=\u001b[39m metric\u001b[38;5;241m.\u001b[39mlower()\n\u001b[1;32m    652\u001b[0m \u001b[38;5;66;03m# prepare input data\u001b[39;00m\n\u001b[0;32m--> 653\u001b[0m X, matched, sample_uncertainty, bin_bounds, _ \u001b[38;5;241m=\u001b[39m \u001b[38;5;28;43mself\u001b[39;49m\u001b[38;5;241;43m.\u001b[39;49m\u001b[43mprepare\u001b[49m\u001b[43m(\u001b[49m\u001b[43mX\u001b[49m\u001b[43m,\u001b[49m\u001b[43m \u001b[49m\u001b[43my\u001b[49m\u001b[43m,\u001b[49m\u001b[43m \u001b[49m\u001b[43mbatched\u001b[49m\u001b[43m,\u001b[49m\u001b[43m \u001b[49m\u001b[43muncertainty\u001b[49m\u001b[43m)\u001b[49m\n\u001b[1;32m    655\u001b[0m \u001b[38;5;66;03m# iterate over all batches of X and matched and calculate average miscalibration\u001b[39;00m\n\u001b[1;32m    656\u001b[0m results \u001b[38;5;241m=\u001b[39m []\n",
      "File \u001b[0;32m~/.local/lib/python3.8/site-packages/netcal/metrics/Miscalibration.py:193\u001b[0m, in \u001b[0;36m_Miscalibration.prepare\u001b[0;34m(self, X, y, batched, uncertainty)\u001b[0m\n\u001b[1;32m    189\u001b[0m sample_uncertainty\u001b[38;5;241m.\u001b[39mappend(batch_uncertainty)\n\u001b[1;32m    191\u001b[0m \u001b[38;5;66;03m# -------------------------------------------------\u001b[39;00m\n\u001b[1;32m    192\u001b[0m \u001b[38;5;66;03m# check and prepare input data\u001b[39;00m\n\u001b[0;32m--> 193\u001b[0m batch_X, batch_y, batch_matched \u001b[38;5;241m=\u001b[39m \u001b[38;5;28;43mself\u001b[39;49m\u001b[38;5;241;43m.\u001b[39;49m\u001b[43m_prepare_input\u001b[49m\u001b[43m(\u001b[49m\u001b[43mbatch_X\u001b[49m\u001b[43m,\u001b[49m\u001b[43m \u001b[49m\u001b[43mbatch_y\u001b[49m\u001b[43m)\u001b[49m\n\u001b[1;32m    194\u001b[0m X[i], y[i] \u001b[38;5;241m=\u001b[39m batch_X, batch_y\n\u001b[1;32m    195\u001b[0m matched\u001b[38;5;241m.\u001b[39mappend(batch_matched)\n",
      "File \u001b[0;32m~/.local/lib/python3.8/site-packages/netcal/metrics/Miscalibration.py:429\u001b[0m, in \u001b[0;36m_Miscalibration._prepare_input\u001b[0;34m(self, X, y)\u001b[0m\n\u001b[1;32m    427\u001b[0m \u001b[38;5;28;01massert\u001b[39;00m X\u001b[38;5;241m.\u001b[39mndim \u001b[38;5;241m<\u001b[39m\u001b[38;5;241m=\u001b[39m \u001b[38;5;241m2\u001b[39m, \u001b[38;5;124m\"\u001b[39m\u001b[38;5;124mFatal error: invalid number of dimensions.\u001b[39m\u001b[38;5;124m\"\u001b[39m\n\u001b[1;32m    428\u001b[0m \u001b[38;5;28;01massert\u001b[39;00m y\u001b[38;5;241m.\u001b[39msize \u001b[38;5;241m>\u001b[39m \u001b[38;5;241m0\u001b[39m, \u001b[38;5;124m\"\u001b[39m\u001b[38;5;124mNo samples provided.\u001b[39m\u001b[38;5;124m\"\u001b[39m\n\u001b[0;32m--> 429\u001b[0m \u001b[38;5;28;01massert\u001b[39;00m X\u001b[38;5;241m.\u001b[39mshape[\u001b[38;5;241m0\u001b[39m] \u001b[38;5;241m==\u001b[39m y\u001b[38;5;241m.\u001b[39mshape[\u001b[38;5;241m0\u001b[39m], \u001b[38;5;124m\"\u001b[39m\u001b[38;5;124mUnequal number of samples given in X and y.\u001b[39m\u001b[38;5;124m\"\u001b[39m\n\u001b[1;32m    431\u001b[0m \u001b[38;5;66;03m# on detection mode, we only have binary samples\u001b[39;00m\n\u001b[1;32m    432\u001b[0m \u001b[38;5;28;01mif\u001b[39;00m (y\u001b[38;5;241m.\u001b[39mndim \u001b[38;5;241m>\u001b[39m \u001b[38;5;241m1\u001b[39m \u001b[38;5;129;01mor\u001b[39;00m (np\u001b[38;5;241m.\u001b[39munique(y) \u001b[38;5;241m>\u001b[39m \u001b[38;5;241m1\u001b[39m)\u001b[38;5;241m.\u001b[39many()) \u001b[38;5;129;01mand\u001b[39;00m \u001b[38;5;28mself\u001b[39m\u001b[38;5;241m.\u001b[39mdetection:\n",
      "\u001b[0;31mAssertionError\u001b[0m: Unequal number of samples given in X and y."
     ]
    }
   ],
   "source": [
    "num_classes=1000\n",
    "all_ = [sup_m1, sup_m2, sup_m3]\n",
    "tars = [tar, tar, tar]\n",
    "names = ['m1', 'm2', 'm3']\n",
    "_,_,_,all_eq_pcs = get_metrics(all_, tars, names, printing=True, input_softmax=False, num_classes=1000)\n",
    "\n",
    "# _,_,_,all_eq_pcs = get_metrics([(sup_m2.softmax(-1)+sup_m3.softmax(-1))/2], [tar], ['m=2'], printing=True, input_softmax=True, num_classes=1000)\n",
    "\n",
    "_,_,_,all_eq_pcs = get_metrics([((sup_m1.softmax(-1)+sup_m3.softmax(-1)).mean(dim=0))], [tar], ['avg pred m=2'], printing=True, input_softmax=True, num_classes=1000)\n",
    "_,_,_,all_eq_pcs = get_metrics([((sup_m1.softmax(-1)+sup_m3.softmax(-1)+sup_m2.softmax(-1)).mean(dim=0))], [tar], ['avg pred m=3'], printing=True, input_softmax=True, num_classes=1000)\n",
    "\n",
    "_,_,_,all_eq_pcs = get_metrics([((sup_m1+sup_m2)/2).softmax(-1)], [tar], ['avg logits m=2'], printing=True, input_softmax=True, num_classes=1000)\n",
    "_,_,_,all_eq_pcs = get_metrics([((sup_m1+sup_m3+sup_m2)/3).softmax(-1)], [tar], ['avg logits m=3'], printing=True, input_softmax=True, num_classes=1000)\n",
    "\n"
   ]
  },
  {
   "cell_type": "code",
   "execution_count": 108,
   "id": "a35c6572",
   "metadata": {},
   "outputs": [
    {
     "name": "stdout",
     "output_type": "stream",
     "text": [
      "m1\n",
      "NLL: 0.9056292772293091 | ECE: 0.03064089876106011 | ECE: tensor([0.0306])\n",
      "Acc: 0.7682399749755859\n",
      "m2\n",
      "NLL: 0.9061529636383057 | ECE: 0.034896882147118426 | ECE: tensor([0.0349])\n",
      "Acc: 0.7687000036239624\n",
      "m3\n",
      "NLL: 0.9061235189437866 | ECE: 0.030388316879942992 | ECE: tensor([0.0304])\n",
      "Acc: 0.7691799998283386\n",
      "avg pred 2 models\n",
      "NLL: 0.8405658602714539 | ECE: 0.014618546799607574 | ECE: tensor([0.0146])\n",
      "Acc: 0.7826399803161621\n",
      "avg pred 3 models\n",
      "NLL: 0.8166974782943726 | ECE: 0.017405937055051342 | ECE: tensor([0.0174])\n",
      "Acc: 0.7882800102233887\n",
      "avg logits 2 models\n",
      "NLL: 0.8372172713279724 | ECE: 0.023563476777877648 | ECE: tensor([0.0236])\n",
      "Acc: 0.7833999991416931\n",
      "avg logits 3 models\n",
      "NLL: 0.8135485053062439 | ECE: 0.02182280820908023 | ECE: tensor([0.0218])\n",
      "Acc: 0.7885000109672546\n"
     ]
    }
   ],
   "source": [
    "eq1 = torch.load(f\"./logits_files/eq31.pth\")\n",
    "eq2 = torch.load(f\"./logits_files/eq24.pth\")\n",
    "eq3 = torch.load(f\"./logits_files/eq42.pth\")\n",
    "tar = torch.load(f\"./logits_files/targets.pth\")\n",
    "\n",
    "num_classes=1000\n",
    "all_ = [eq1, eq2, eq3]\n",
    "tars = [tar, tar, tar]\n",
    "names = ['m1', 'm2', 'm3']\n",
    "_,_,_,all_eq_pcs = get_metrics(all_, tars, names, printing=True, input_softmax=False, num_classes=1000)\n",
    "\n",
    "\n",
    "_,_,_,all_eq_pcs = get_metrics([((eq1.softmax(-1)+eq3.softmax(-1))/2)], [tar], ['avg pred 2 models'], printing=True, input_softmax=True, num_classes=1000)\n",
    "_,_,_,all_eq_pcs = get_metrics([((eq1.softmax(-1)+eq3.softmax(-1)+eq2.softmax(-1))/3)], [tar], ['avg pred 3 models'], printing=True, input_softmax=True, num_classes=1000)\n",
    "\n",
    "_,_,_,all_eq_pcs = get_metrics([((eq1+eq3)/2).softmax(-1)], [tar], ['avg logits 2 models'], printing=True, input_softmax=True, num_classes=1000)\n",
    "_,_,_,all_eq_pcs = get_metrics([((eq1+eq3+eq2)/3).softmax(-1)], [tar], ['avg logits 3 models'], printing=True, input_softmax=True, num_classes=1000)\n"
   ]
  },
  {
   "cell_type": "code",
   "execution_count": 59,
   "id": "63eccd96",
   "metadata": {},
   "outputs": [
    {
     "name": "stdout",
     "output_type": "stream",
     "text": [
      "0.9210170650482178\n",
      "0.924967097043991\n",
      "0.9267912483215333\n"
     ]
    },
    {
     "data": {
      "text/plain": [
       "[<matplotlib.lines.Line2D at 0x7fc5723b7550>]"
      ]
     },
     "execution_count": 59,
     "metadata": {},
     "output_type": "execute_result"
    },
    {
     "data": {
      "image/png": "[encoded data removed]",
      "text/plain": [
       "<Figure size 432x288 with 1 Axes>"
      ]
     },
     "metadata": {
      "needs_background": "light"
     },
     "output_type": "display_data"
    }
   ],
   "source": [
    "def get_ROC(prob_list, tar, metric='MI_diff', printing=False):\n",
    "    if metric == 'MI_diff':\n",
    "        if len(prob_list) > 1:\n",
    "            out = torch.stack(prob_list).mean(dim=0)\n",
    "            entrop = torch.sum(torch.log(out**(-out)), dim=1)\n",
    "            avg_entrop = torch.zeros_like(entrop)\n",
    "            for i in range(len(prob_list)):\n",
    "                entrop1 = torch.sum(torch.log(prob_list[i]**(-prob_list[i])), dim=1)\n",
    "                avg_entrop += entrop1\n",
    "            avg_entrop /= len(prob_list)\n",
    "            met = entrop - avg_entrop\n",
    "        else:\n",
    "            out = prob_list[0]\n",
    "            met = torch.sum(torch.log(out**(-out)), dim=1)\n",
    "    else:\n",
    "        if len(prob_list) > 1:\n",
    "            out = torch.stack(prob_list).mean(dim=0)\n",
    "        else:\n",
    "            out = prob_list[0]\n",
    "        met = torch.sum(torch.log(out**(-out)), dim=1)\n",
    "    \n",
    "    # sort metric\n",
    "    sorted_h, ind = torch.sort(met, descending=True)\n",
    "    sorted_probs = out[ind]\n",
    "    sorted_tar = tar[ind]\n",
    "    rejnum = []\n",
    "    remacc = []\n",
    "    for i in np.arange(1,50000,1000):\n",
    "        _,_,acc,all_eq_pcs = get_metrics([(sorted_probs[i:])], [sorted_tar[i:]], [f'avg logits {len(prob_list)} models'], printing=printing, input_softmax=True, num_classes=1000)\n",
    "        rejnum.append(i)\n",
    "        remacc.append(acc)\n",
    "    auuqc = np.array(remacc).sum()/len(remacc)\n",
    "    print(auuqc)\n",
    "    return rejnum, remacc, auuqc\n",
    "\n",
    "x1, acc1, auuqc1 = get_ROC([eq69.softmax(-1), eq42.softmax(-1)], tar)\n",
    "x2, acc2, auuqc2 = get_ROC([eq69.softmax(-1), eq42.softmax(-1), eq31.softmax(-1)], tar)\n",
    "x3, acc3, auuqc3 = get_ROC([eq69.softmax(-1), eq42.softmax(-1), eq31.softmax(-1),eq24.softmax(-1)], tar)\n",
    "\n",
    "import matplotlib.pyplot as plt\n",
    "plt.figure()\n",
    "plt.plot(x1, acc1)\n",
    "plt.plot(x2, acc2)\n",
    "plt.plot(x3, acc3)\n",
    "\n"
   ]
  },
  {
   "cell_type": "code",
   "execution_count": 30,
   "id": "b3a0b12e",
   "metadata": {},
   "outputs": [
    {
     "name": "stdout",
     "output_type": "stream",
     "text": [
      "0.9340232157707214\n",
      "0.9358589720726013\n",
      "0.9365056347846985\n",
      "0.9337041163444519\n",
      "0.9359925031661988\n",
      "0.9369609272480011\n"
     ]
    },
    {
     "data": {
      "text/plain": [
       "[<matplotlib.lines.Line2D at 0x7fc56d468fa0>]"
      ]
     },
     "execution_count": 30,
     "metadata": {},
     "output_type": "execute_result"
    },
    {
     "data": {
      "image/png": "[encoded data removed]",
      "text/plain": [
       "<Figure size 432x288 with 1 Axes>"
      ]
     },
     "metadata": {
      "needs_background": "light"
     },
     "output_type": "display_data"
    },
    {
     "data": {
      "image/png": "[encoded data removed]",
      "text/plain": [
       "<Figure size 432x288 with 1 Axes>"
      ]
     },
     "metadata": {
      "needs_background": "light"
     },
     "output_type": "display_data"
    }
   ],
   "source": [
    "# greedyEI = [eq69,inv31,eq54,eq31,inv,eq42, inv24]\n",
    "# greedyEE = [eq69,eq31,eq24,eq42,eq54,eq96]\n",
    "\n",
    "x1, acc1, auuqc1 = get_ROC([eq69.softmax(-1), eq31.softmax(-1)], tar, metric='ent')\n",
    "x2, acc2, auuqc2 = get_ROC([eq69.softmax(-1), eq31.softmax(-1), eq24.softmax(-1)], tar, metric='ent')\n",
    "x3, acc3, auuqc3 = get_ROC([eq69.softmax(-1), eq31.softmax(-1), eq24.softmax(-1),eq42.softmax(-1)], tar, metric='ent')\n",
    "\n",
    "import matplotlib.pyplot as plt\n",
    "plt.figure()\n",
    "plt.plot(x1, acc1)\n",
    "plt.plot(x2, acc2)\n",
    "plt.plot(x3, acc3)\n",
    "\n",
    "x1, acc1, auuqc1 = get_ROC([eq69.softmax(-1), inv31.softmax(-1)], tar, metric='ent')\n",
    "x2, acc2, auuqc2 = get_ROC([eq69.softmax(-1), inv31.softmax(-1), eq54.softmax(-1)], tar, metric='ent')\n",
    "x3, acc3, auuqc3 = get_ROC([eq69.softmax(-1), inv31.softmax(-1), eq54.softmax(-1),eq31.softmax(-1)], tar, metric='ent')\n",
    "\n",
    "import matplotlib.pyplot as plt\n",
    "plt.figure()\n",
    "plt.plot(x1, acc1)\n",
    "plt.plot(x2, acc2)\n",
    "plt.plot(x3, acc3)"
   ]
  },
  {
   "cell_type": "code",
   "execution_count": 62,
   "id": "fe6a1f81",
   "metadata": {},
   "outputs": [
    {
     "name": "stdout",
     "output_type": "stream",
     "text": [
      "EE\n",
      "NLL: 0.8402246236801147 | ECE: 0.01375570820812134 | ECE: tensor([0.0138])\n",
      "Acc: 0.7831199765205383\n",
      "0.9201778495311737\n",
      "EEE\n",
      "NLL: 0.8173604607582092 | ECE: 0.017493720271084454 | ECE: tensor([0.0175])\n",
      "Acc: 0.7887399792671204\n",
      "0.9249775516986847\n",
      "EEEE\n",
      "NLL: 0.8055248260498047 | ECE: 0.020629736733883613 | ECE: tensor([0.0206])\n",
      "Acc: 0.7910000085830688\n",
      "0.9267912483215333\n",
      "EEEEE\n",
      "NLL: 0.8028149008750916 | ECE: 0.02378273024076598 | ECE: tensor([0.0238])\n",
      "Acc: 0.79093998670578\n",
      "0.9263439488410949\n",
      "EI\n",
      "NLL: 0.8476244807243347 | ECE: 0.015789624023307105 | ECE: tensor([0.0158])\n",
      "Acc: 0.7833799719810486\n",
      "0.921446886062622\n",
      "EEI\n",
      "NLL: 0.8166572451591492 | ECE: 0.021075211931075886 | ECE: tensor([0.0211])\n",
      "Acc: 0.7898399829864502\n",
      "0.9261473858356476\n",
      "EEEI\n",
      "NLL: 0.8035669326782227 | ECE: 0.025263717935122533 | ECE: tensor([0.0253])\n",
      "Acc: 0.7929400205612183\n",
      "0.9276570844650268\n",
      "EEEII\n",
      "NLL: 0.7956450581550598 | ECE: 0.027868556010331964 | ECE: tensor([0.0279])\n",
      "Acc: 0.7945399880409241\n",
      "0.9286574423313141\n"
     ]
    }
   ],
   "source": [
    "# greedyEI = [eq69,inv31,eq54,eq31,inv,eq42, inv24]\n",
    "# greedyEE = [eq69,eq31,eq24,eq42,eq54,eq96]\n",
    "\n",
    "_,_,_,all_eq_pcs = get_metrics([(eq69.softmax(-1)+eq31.softmax(-1))/2], [tar], ['EE'], printing=True, input_softmax=True, num_classes=1000)\n",
    "x1, acc1, auuqc1 = get_ROC([eq69.softmax(-1), eq31.softmax(-1)], tar)\n",
    "_,_,_,all_eq_pcs = get_metrics([(eq69.softmax(-1)+eq31.softmax(-1)+eq24.softmax(-1))/3], [tar], ['EEE'], printing=True, input_softmax=True, num_classes=1000)\n",
    "x2, acc2, auuqc2 = get_ROC([eq69.softmax(-1), eq31.softmax(-1), eq24.softmax(-1)], tar)\n",
    "_,_,_,all_eq_pcs = get_metrics([(eq69.softmax(-1)+eq31.softmax(-1)+eq24.softmax(-1)+eq42.softmax(-1))/4], [tar], ['EEEE'], printing=True, input_softmax=True, num_classes=1000)\n",
    "\n",
    "x3, acc3, auuqc3 = get_ROC([eq69.softmax(-1), eq31.softmax(-1), eq24.softmax(-1),eq42.softmax(-1)], tar)\n",
    "_,_,_,all_eq_pcs = get_metrics([(eq69.softmax(-1)+eq31.softmax(-1)+eq24.softmax(-1)+eq42.softmax(-1)+eq96.softmax(-1))/5], [tar], ['EEEEE'], printing=True, input_softmax=True, num_classes=1000)\n",
    "\n",
    "x4, acc4, auuqc4 = get_ROC([eq69.softmax(-1), eq31.softmax(-1), eq24.softmax(-1),eq42.softmax(-1),eq96.softmax(-1)], tar)\n",
    "\n",
    "\n",
    "_,_,_,all_eq_pcs = get_metrics([(eq69.softmax(-1)+inv31.softmax(-1))/2], [tar], ['EI'], printing=True, input_softmax=True, num_classes=1000)\n",
    "\n",
    "xi1, acci1, auuqci1 = get_ROC([eq69.softmax(-1), inv31.softmax(-1)], tar)\n",
    "_,_,_,all_eq_pcs = get_metrics([(eq69.softmax(-1)+inv31.softmax(-1)+eq54.softmax(-1))/3], [tar], ['EEI'], printing=True, input_softmax=True, num_classes=1000)\n",
    "\n",
    "xi2, acci2, auuqci2 = get_ROC([eq69.softmax(-1), inv31.softmax(-1), eq54.softmax(-1)], tar)\n",
    "_,_,_,all_eq_pcs = get_metrics([(eq69.softmax(-1)+inv31.softmax(-1)+eq54.softmax(-1)+eq31.softmax(-1))/4], [tar], ['EEEI'], printing=True, input_softmax=True, num_classes=1000)\n",
    "\n",
    "xi3, acci3, auuqci3 = get_ROC([eq69.softmax(-1), inv31.softmax(-1), eq54.softmax(-1),eq31.softmax(-1)], tar)\n",
    "_,_,_,all_eq_pcs = get_metrics([(eq69.softmax(-1)+inv31.softmax(-1)+eq54.softmax(-1)+eq31.softmax(-1)+inv24.softmax(-1))/5], [tar], ['EEEII'], printing=True, input_softmax=True, num_classes=1000)\n",
    "\n",
    "xi4, acci4, auuqci4 = get_ROC([eq69.softmax(-1), inv31.softmax(-1), eq54.softmax(-1),eq31.softmax(-1),inv24.softmax(-1)], tar)\n",
    "\n"
   ]
  },
  {
   "cell_type": "code",
   "execution_count": 85,
   "id": "09f2f6ec",
   "metadata": {},
   "outputs": [
    {
     "data": {
      "image/png": "[encoded data removed]",
      "text/plain": [
       "<Figure size 288x288 with 1 Axes>"
      ]
     },
     "metadata": {
      "needs_background": "light"
     },
     "output_type": "display_data"
    },
    {
     "data": {
      "image/png": "[encoded data removed]",
      "text/plain": [
       "<Figure size 360x216 with 1 Axes>"
      ]
     },
     "metadata": {
      "needs_background": "light"
     },
     "output_type": "display_data"
    }
   ],
   "source": [
    "import matplotlib.pyplot as plt\n",
    "plt.figure(figsize=(4,4))\n",
    "plt.plot(np.linspace(0,1,len(x1)), acc1, label='M=2')\n",
    "plt.plot(np.linspace(0,1,len(x1)), acc2, label='M=3')\n",
    "plt.plot(np.linspace(0,1,len(x1)), acc3, label='M=4')\n",
    "plt.xlabel(\"Percentage of samples removed\")\n",
    "plt.ylabel(\"Accuracy\")\n",
    "plt.legend()\n",
    "plt.tight_layout()\n",
    "plt.savefig(\"auuqc2.pdf\")\n",
    "# plt.yscale(\"log\")\n",
    "\n",
    "import matplotlib.pyplot as plt\n",
    "plt.figure(figsize=(5,3))\n",
    "plt.plot(np.linspace(0,1,len(x1)), acc1, label='M=2')\n",
    "plt.plot(np.linspace(0,1,len(x1)), acc2, label='M=3')\n",
    "plt.plot(np.linspace(0,1,len(x1)), acc3, label='M=4')\n",
    "plt.xlabel(\"Percentage of samples removed\")\n",
    "plt.ylabel(\"Accuracy\")\n",
    "plt.legend()\n",
    "plt.tight_layout()\n",
    "plt.savefig(\"auuqc.pdf\")"
   ]
  },
  {
   "cell_type": "code",
   "execution_count": 14,
   "id": "7cda0935",
   "metadata": {},
   "outputs": [
    {
     "name": "stdout",
     "output_type": "stream",
     "text": [
      "torch.Size([50000, 1000])\n"
     ]
    },
    {
     "ename": "KeyboardInterrupt",
     "evalue": "",
     "output_type": "error",
     "traceback": [
      "\u001b[0;31m---------------------------------------------------------------------------\u001b[0m",
      "\u001b[0;31mKeyboardInterrupt\u001b[0m                         Traceback (most recent call last)",
      "Input \u001b[0;32mIn [14]\u001b[0m, in \u001b[0;36m<cell line: 31>\u001b[0;34m()\u001b[0m\n\u001b[1;32m     30\u001b[0m remacc \u001b[38;5;241m=\u001b[39m []\n\u001b[1;32m     31\u001b[0m \u001b[38;5;28;01mfor\u001b[39;00m i \u001b[38;5;129;01min\u001b[39;00m np\u001b[38;5;241m.\u001b[39marange(\u001b[38;5;241m1\u001b[39m,\u001b[38;5;241m50000\u001b[39m,\u001b[38;5;241m100\u001b[39m):\n\u001b[0;32m---> 32\u001b[0m     _,_,acc,all_eq_pcs \u001b[38;5;241m=\u001b[39m \u001b[43mget_metrics\u001b[49m\u001b[43m(\u001b[49m\u001b[43m[\u001b[49m\u001b[43m(\u001b[49m\u001b[43msorted_out\u001b[49m\u001b[43m[\u001b[49m\u001b[43mi\u001b[49m\u001b[43m:\u001b[49m\u001b[43m]\u001b[49m\u001b[43m)\u001b[49m\u001b[43m]\u001b[49m\u001b[43m,\u001b[49m\u001b[43m \u001b[49m\u001b[43m[\u001b[49m\u001b[43msorted_tar\u001b[49m\u001b[43m[\u001b[49m\u001b[43mi\u001b[49m\u001b[43m:\u001b[49m\u001b[43m]\u001b[49m\u001b[43m]\u001b[49m\u001b[43m,\u001b[49m\u001b[43m \u001b[49m\u001b[43m[\u001b[49m\u001b[38;5;124;43m'\u001b[39;49m\u001b[38;5;124;43mavg logits 2 models\u001b[39;49m\u001b[38;5;124;43m'\u001b[39;49m\u001b[43m]\u001b[49m\u001b[43m,\u001b[49m\u001b[43m \u001b[49m\u001b[43mprinting\u001b[49m\u001b[38;5;241;43m=\u001b[39;49m\u001b[38;5;28;43;01mFalse\u001b[39;49;00m\u001b[43m,\u001b[49m\u001b[43m \u001b[49m\u001b[43minput_softmax\u001b[49m\u001b[38;5;241;43m=\u001b[39;49m\u001b[38;5;28;43;01mTrue\u001b[39;49;00m\u001b[43m,\u001b[49m\u001b[43m \u001b[49m\u001b[43mnum_classes\u001b[49m\u001b[38;5;241;43m=\u001b[39;49m\u001b[38;5;241;43m1000\u001b[39;49m\u001b[43m)\u001b[49m\n\u001b[1;32m     33\u001b[0m     rejnum\u001b[38;5;241m.\u001b[39mappend(i)\n\u001b[1;32m     34\u001b[0m     remacc\u001b[38;5;241m.\u001b[39mappend(acc)\n",
      "Input \u001b[0;32mIn [6]\u001b[0m, in \u001b[0;36mget_metrics\u001b[0;34m(outs, tars, names, printing, input_softmax, num_classes)\u001b[0m\n\u001b[1;32m     21\u001b[0m \u001b[38;5;28;01mif\u001b[39;00m \u001b[38;5;129;01mnot\u001b[39;00m input_softmax:\n\u001b[1;32m     22\u001b[0m     out \u001b[38;5;241m=\u001b[39m out\u001b[38;5;241m.\u001b[39msoftmax(\u001b[38;5;241m-\u001b[39m\u001b[38;5;241m1\u001b[39m)\n\u001b[0;32m---> 23\u001b[0m ece1 \u001b[38;5;241m=\u001b[39m \u001b[43mece_netcal\u001b[49m\u001b[38;5;241;43m.\u001b[39;49m\u001b[43mmeasure\u001b[49m\u001b[43m(\u001b[49m\u001b[43mout\u001b[49m\u001b[38;5;241;43m.\u001b[39;49m\u001b[43mnumpy\u001b[49m\u001b[43m(\u001b[49m\u001b[43m)\u001b[49m\u001b[43m,\u001b[49m\u001b[43m \u001b[49m\u001b[43mtar\u001b[49m\u001b[38;5;241;43m.\u001b[39;49m\u001b[43mnumpy\u001b[49m\u001b[43m(\u001b[49m\u001b[43m)\u001b[49m\u001b[43m)\u001b[49m\n\u001b[1;32m     24\u001b[0m ece2 \u001b[38;5;241m=\u001b[39m ece_criterion(out, tar)\n\u001b[1;32m     26\u001b[0m loss \u001b[38;5;241m=\u001b[39m F\u001b[38;5;241m.\u001b[39mnll_loss(torch\u001b[38;5;241m.\u001b[39mlog(out), tar)\n",
      "File \u001b[0;32m~/.local/lib/python3.8/site-packages/netcal/metrics/confidence/ECE.py:115\u001b[0m, in \u001b[0;36mECE.measure\u001b[0;34m(self, X, y, batched, uncertainty, return_map, return_num_samples, return_uncertainty_map)\u001b[0m\n\u001b[1;32m     57\u001b[0m \u001b[38;5;28;01mdef\u001b[39;00m \u001b[38;5;21mmeasure\u001b[39m(\n\u001b[1;32m     58\u001b[0m         \u001b[38;5;28mself\u001b[39m,\n\u001b[1;32m     59\u001b[0m         X: Union[Iterable[np\u001b[38;5;241m.\u001b[39mndarray], np\u001b[38;5;241m.\u001b[39mndarray],\n\u001b[0;32m   (...)\u001b[0m\n\u001b[1;32m     65\u001b[0m         return_uncertainty_map: \u001b[38;5;28mbool\u001b[39m \u001b[38;5;241m=\u001b[39m \u001b[38;5;28;01mFalse\u001b[39;00m\n\u001b[1;32m     66\u001b[0m ) \u001b[38;5;241m-\u001b[39m\u001b[38;5;241m>\u001b[39m Union[\u001b[38;5;28mfloat\u001b[39m, Tuple]:\n\u001b[1;32m     67\u001b[0m     \u001b[38;5;124;03m\"\"\"\u001b[39;00m\n\u001b[1;32m     68\u001b[0m \u001b[38;5;124;03m    Measure calibration by given predictions with confidence and the according ground truth.\u001b[39;00m\n\u001b[1;32m     69\u001b[0m \u001b[38;5;124;03m    Assume binary predictions with y=1.\u001b[39;00m\n\u001b[0;32m   (...)\u001b[0m\n\u001b[1;32m    112\u001b[0m \u001b[38;5;124;03m        If 'return_uncertainty' is True, return tuple and append the average standard deviation of confidence within each bin (excluding confidence dimension).\u001b[39;00m\n\u001b[1;32m    113\u001b[0m \u001b[38;5;124;03m    \"\"\"\u001b[39;00m\n\u001b[0;32m--> 115\u001b[0m     \u001b[38;5;28;01mreturn\u001b[39;00m \u001b[38;5;28;43mself\u001b[39;49m\u001b[38;5;241;43m.\u001b[39;49m\u001b[43m_measure\u001b[49m\u001b[43m(\u001b[49m\n\u001b[1;32m    116\u001b[0m \u001b[43m        \u001b[49m\u001b[43mX\u001b[49m\u001b[38;5;241;43m=\u001b[39;49m\u001b[43mX\u001b[49m\u001b[43m,\u001b[49m\u001b[43m \u001b[49m\u001b[43my\u001b[49m\u001b[38;5;241;43m=\u001b[39;49m\u001b[43my\u001b[49m\u001b[43m,\u001b[49m\u001b[43m \u001b[49m\u001b[43mmetric\u001b[49m\u001b[38;5;241;43m=\u001b[39;49m\u001b[38;5;124;43m'\u001b[39;49m\u001b[38;5;124;43mece\u001b[39;49m\u001b[38;5;124;43m'\u001b[39;49m\u001b[43m,\u001b[49m\u001b[43m \u001b[49m\u001b[43mbatched\u001b[49m\u001b[38;5;241;43m=\u001b[39;49m\u001b[43mbatched\u001b[49m\u001b[43m,\u001b[49m\u001b[43m \u001b[49m\u001b[43muncertainty\u001b[49m\u001b[38;5;241;43m=\u001b[39;49m\u001b[43muncertainty\u001b[49m\u001b[43m,\u001b[49m\n\u001b[1;32m    117\u001b[0m \u001b[43m        \u001b[49m\u001b[43mreturn_map\u001b[49m\u001b[38;5;241;43m=\u001b[39;49m\u001b[43mreturn_map\u001b[49m\u001b[43m,\u001b[49m\n\u001b[1;32m    118\u001b[0m \u001b[43m        \u001b[49m\u001b[43mreturn_num_samples\u001b[49m\u001b[38;5;241;43m=\u001b[39;49m\u001b[43mreturn_num_samples\u001b[49m\u001b[43m,\u001b[49m\n\u001b[1;32m    119\u001b[0m \u001b[43m        \u001b[49m\u001b[43mreturn_uncertainty_map\u001b[49m\u001b[38;5;241;43m=\u001b[39;49m\u001b[43mreturn_uncertainty_map\u001b[49m\n\u001b[1;32m    120\u001b[0m \u001b[43m    \u001b[49m\u001b[43m)\u001b[49m\n",
      "File \u001b[0;32m~/.local/lib/python3.8/site-packages/netcal/metrics/Miscalibration.py:653\u001b[0m, in \u001b[0;36m_Miscalibration._measure\u001b[0;34m(self, X, y, metric, batched, uncertainty, return_map, return_num_samples, return_uncertainty_map)\u001b[0m\n\u001b[1;32m    650\u001b[0m     metric \u001b[38;5;241m=\u001b[39m metric\u001b[38;5;241m.\u001b[39mlower()\n\u001b[1;32m    652\u001b[0m \u001b[38;5;66;03m# prepare input data\u001b[39;00m\n\u001b[0;32m--> 653\u001b[0m X, matched, sample_uncertainty, bin_bounds, _ \u001b[38;5;241m=\u001b[39m \u001b[38;5;28;43mself\u001b[39;49m\u001b[38;5;241;43m.\u001b[39;49m\u001b[43mprepare\u001b[49m\u001b[43m(\u001b[49m\u001b[43mX\u001b[49m\u001b[43m,\u001b[49m\u001b[43m \u001b[49m\u001b[43my\u001b[49m\u001b[43m,\u001b[49m\u001b[43m \u001b[49m\u001b[43mbatched\u001b[49m\u001b[43m,\u001b[49m\u001b[43m \u001b[49m\u001b[43muncertainty\u001b[49m\u001b[43m)\u001b[49m\n\u001b[1;32m    655\u001b[0m \u001b[38;5;66;03m# iterate over all batches of X and matched and calculate average miscalibration\u001b[39;00m\n\u001b[1;32m    656\u001b[0m results \u001b[38;5;241m=\u001b[39m []\n",
      "File \u001b[0;32m~/.local/lib/python3.8/site-packages/netcal/metrics/Miscalibration.py:193\u001b[0m, in \u001b[0;36m_Miscalibration.prepare\u001b[0;34m(self, X, y, batched, uncertainty)\u001b[0m\n\u001b[1;32m    189\u001b[0m sample_uncertainty\u001b[38;5;241m.\u001b[39mappend(batch_uncertainty)\n\u001b[1;32m    191\u001b[0m \u001b[38;5;66;03m# -------------------------------------------------\u001b[39;00m\n\u001b[1;32m    192\u001b[0m \u001b[38;5;66;03m# check and prepare input data\u001b[39;00m\n\u001b[0;32m--> 193\u001b[0m batch_X, batch_y, batch_matched \u001b[38;5;241m=\u001b[39m \u001b[38;5;28;43mself\u001b[39;49m\u001b[38;5;241;43m.\u001b[39;49m\u001b[43m_prepare_input\u001b[49m\u001b[43m(\u001b[49m\u001b[43mbatch_X\u001b[49m\u001b[43m,\u001b[49m\u001b[43m \u001b[49m\u001b[43mbatch_y\u001b[49m\u001b[43m)\u001b[49m\n\u001b[1;32m    194\u001b[0m X[i], y[i] \u001b[38;5;241m=\u001b[39m batch_X, batch_y\n\u001b[1;32m    195\u001b[0m matched\u001b[38;5;241m.\u001b[39mappend(batch_matched)\n",
      "File \u001b[0;32m~/.local/lib/python3.8/site-packages/netcal/metrics/Miscalibration.py:446\u001b[0m, in \u001b[0;36m_Miscalibration._prepare_input\u001b[0;34m(self, X, y)\u001b[0m\n\u001b[1;32m    443\u001b[0m         y \u001b[38;5;241m=\u001b[39m np\u001b[38;5;241m.\u001b[39margmax(y, axis\u001b[38;5;241m=\u001b[39m\u001b[38;5;241m1\u001b[39m)\n\u001b[1;32m    445\u001b[0m \u001b[38;5;66;03m# clip to (0, 1) in order to get all samples into binning scheme\u001b[39;00m\n\u001b[0;32m--> 446\u001b[0m X \u001b[38;5;241m=\u001b[39m \u001b[43mnp\u001b[49m\u001b[38;5;241;43m.\u001b[39;49m\u001b[43mclip\u001b[49m\u001b[43m(\u001b[49m\u001b[43mX\u001b[49m\u001b[43m,\u001b[49m\u001b[43m \u001b[49m\u001b[38;5;28;43mself\u001b[39;49m\u001b[38;5;241;43m.\u001b[39;49m\u001b[43mepsilon\u001b[49m\u001b[43m,\u001b[49m\u001b[43m \u001b[49m\u001b[38;5;241;43m1.\u001b[39;49m\u001b[43m \u001b[49m\u001b[38;5;241;43m-\u001b[39;49m\u001b[43m \u001b[49m\u001b[38;5;28;43mself\u001b[39;49m\u001b[38;5;241;43m.\u001b[39;49m\u001b[43mepsilon\u001b[49m\u001b[43m)\u001b[49m\n\u001b[1;32m    448\u001b[0m \u001b[38;5;66;03m# -------------------------------------------------\u001b[39;00m\n\u001b[1;32m    449\u001b[0m \u001b[38;5;66;03m# now evaluate the accuracy/precision\u001b[39;00m\n\u001b[1;32m    450\u001b[0m \u001b[38;5;66;03m# on detection mode or binary classification, the accuracy/precision is already given in y\u001b[39;00m\n\u001b[1;32m    451\u001b[0m \u001b[38;5;28;01mif\u001b[39;00m \u001b[38;5;28mself\u001b[39m\u001b[38;5;241m.\u001b[39mdetection \u001b[38;5;129;01mor\u001b[39;00m \u001b[38;5;28mlen\u001b[39m(np\u001b[38;5;241m.\u001b[39munique(y)) \u001b[38;5;241m<\u001b[39m\u001b[38;5;241m=\u001b[39m \u001b[38;5;241m2\u001b[39m:\n",
      "File \u001b[0;32m<__array_function__ internals>:5\u001b[0m, in \u001b[0;36mclip\u001b[0;34m(*args, **kwargs)\u001b[0m\n",
      "File \u001b[0;32m/state/partition1/llgrid/pkg/anaconda/anaconda3-2022a/lib/python3.8/site-packages/numpy/core/fromnumeric.py:2103\u001b[0m, in \u001b[0;36mclip\u001b[0;34m(a, a_min, a_max, out, **kwargs)\u001b[0m\n\u001b[1;32m   2044\u001b[0m \u001b[38;5;129m@array_function_dispatch\u001b[39m(_clip_dispatcher)\n\u001b[1;32m   2045\u001b[0m \u001b[38;5;28;01mdef\u001b[39;00m \u001b[38;5;21mclip\u001b[39m(a, a_min, a_max, out\u001b[38;5;241m=\u001b[39m\u001b[38;5;28;01mNone\u001b[39;00m, \u001b[38;5;241m*\u001b[39m\u001b[38;5;241m*\u001b[39mkwargs):\n\u001b[1;32m   2046\u001b[0m     \u001b[38;5;124;03m\"\"\"\u001b[39;00m\n\u001b[1;32m   2047\u001b[0m \u001b[38;5;124;03m    Clip (limit) the values in an array.\u001b[39;00m\n\u001b[1;32m   2048\u001b[0m \n\u001b[0;32m   (...)\u001b[0m\n\u001b[1;32m   2101\u001b[0m \n\u001b[1;32m   2102\u001b[0m \u001b[38;5;124;03m    \"\"\"\u001b[39;00m\n\u001b[0;32m-> 2103\u001b[0m     \u001b[38;5;28;01mreturn\u001b[39;00m \u001b[43m_wrapfunc\u001b[49m\u001b[43m(\u001b[49m\u001b[43ma\u001b[49m\u001b[43m,\u001b[49m\u001b[43m \u001b[49m\u001b[38;5;124;43m'\u001b[39;49m\u001b[38;5;124;43mclip\u001b[39;49m\u001b[38;5;124;43m'\u001b[39;49m\u001b[43m,\u001b[49m\u001b[43m \u001b[49m\u001b[43ma_min\u001b[49m\u001b[43m,\u001b[49m\u001b[43m \u001b[49m\u001b[43ma_max\u001b[49m\u001b[43m,\u001b[49m\u001b[43m \u001b[49m\u001b[43mout\u001b[49m\u001b[38;5;241;43m=\u001b[39;49m\u001b[43mout\u001b[49m\u001b[43m,\u001b[49m\u001b[43m \u001b[49m\u001b[38;5;241;43m*\u001b[39;49m\u001b[38;5;241;43m*\u001b[39;49m\u001b[43mkwargs\u001b[49m\u001b[43m)\u001b[49m\n",
      "File \u001b[0;32m/state/partition1/llgrid/pkg/anaconda/anaconda3-2022a/lib/python3.8/site-packages/numpy/core/fromnumeric.py:58\u001b[0m, in \u001b[0;36m_wrapfunc\u001b[0;34m(obj, method, *args, **kwds)\u001b[0m\n\u001b[1;32m     55\u001b[0m     \u001b[38;5;28;01mreturn\u001b[39;00m _wrapit(obj, method, \u001b[38;5;241m*\u001b[39margs, \u001b[38;5;241m*\u001b[39m\u001b[38;5;241m*\u001b[39mkwds)\n\u001b[1;32m     57\u001b[0m \u001b[38;5;28;01mtry\u001b[39;00m:\n\u001b[0;32m---> 58\u001b[0m     \u001b[38;5;28;01mreturn\u001b[39;00m \u001b[43mbound\u001b[49m\u001b[43m(\u001b[49m\u001b[38;5;241;43m*\u001b[39;49m\u001b[43margs\u001b[49m\u001b[43m,\u001b[49m\u001b[43m \u001b[49m\u001b[38;5;241;43m*\u001b[39;49m\u001b[38;5;241;43m*\u001b[39;49m\u001b[43mkwds\u001b[49m\u001b[43m)\u001b[49m\n\u001b[1;32m     59\u001b[0m \u001b[38;5;28;01mexcept\u001b[39;00m \u001b[38;5;167;01mTypeError\u001b[39;00m:\n\u001b[1;32m     60\u001b[0m     \u001b[38;5;66;03m# A TypeError occurs if the object does have such a method in its\u001b[39;00m\n\u001b[1;32m     61\u001b[0m     \u001b[38;5;66;03m# class, but its signature is not identical to that of NumPy's. This\u001b[39;00m\n\u001b[0;32m   (...)\u001b[0m\n\u001b[1;32m     65\u001b[0m     \u001b[38;5;66;03m# Call _wrapit from within the except clause to ensure a potential\u001b[39;00m\n\u001b[1;32m     66\u001b[0m     \u001b[38;5;66;03m# exception has a traceback chain.\u001b[39;00m\n\u001b[1;32m     67\u001b[0m     \u001b[38;5;28;01mreturn\u001b[39;00m _wrapit(obj, method, \u001b[38;5;241m*\u001b[39margs, \u001b[38;5;241m*\u001b[39m\u001b[38;5;241m*\u001b[39mkwds)\n",
      "File \u001b[0;32m/state/partition1/llgrid/pkg/anaconda/anaconda3-2022a/lib/python3.8/site-packages/numpy/core/_methods.py:158\u001b[0m, in \u001b[0;36m_clip\u001b[0;34m(a, min, max, out, casting, **kwargs)\u001b[0m\n\u001b[1;32m    155\u001b[0m     \u001b[38;5;28;01mreturn\u001b[39;00m _clip_dep_invoke_with_casting(\n\u001b[1;32m    156\u001b[0m         um\u001b[38;5;241m.\u001b[39mmaximum, a, \u001b[38;5;28mmin\u001b[39m, out\u001b[38;5;241m=\u001b[39mout, casting\u001b[38;5;241m=\u001b[39mcasting, \u001b[38;5;241m*\u001b[39m\u001b[38;5;241m*\u001b[39mkwargs)\n\u001b[1;32m    157\u001b[0m \u001b[38;5;28;01melse\u001b[39;00m:\n\u001b[0;32m--> 158\u001b[0m     \u001b[38;5;28;01mreturn\u001b[39;00m \u001b[43m_clip_dep_invoke_with_casting\u001b[49m\u001b[43m(\u001b[49m\n\u001b[1;32m    159\u001b[0m \u001b[43m        \u001b[49m\u001b[43mum\u001b[49m\u001b[38;5;241;43m.\u001b[39;49m\u001b[43mclip\u001b[49m\u001b[43m,\u001b[49m\u001b[43m \u001b[49m\u001b[43ma\u001b[49m\u001b[43m,\u001b[49m\u001b[43m \u001b[49m\u001b[38;5;28;43mmin\u001b[39;49m\u001b[43m,\u001b[49m\u001b[43m \u001b[49m\u001b[38;5;28;43mmax\u001b[39;49m\u001b[43m,\u001b[49m\u001b[43m \u001b[49m\u001b[43mout\u001b[49m\u001b[38;5;241;43m=\u001b[39;49m\u001b[43mout\u001b[49m\u001b[43m,\u001b[49m\u001b[43m \u001b[49m\u001b[43mcasting\u001b[49m\u001b[38;5;241;43m=\u001b[39;49m\u001b[43mcasting\u001b[49m\u001b[43m,\u001b[49m\u001b[43m \u001b[49m\u001b[38;5;241;43m*\u001b[39;49m\u001b[38;5;241;43m*\u001b[39;49m\u001b[43mkwargs\u001b[49m\u001b[43m)\u001b[49m\n",
      "File \u001b[0;32m/state/partition1/llgrid/pkg/anaconda/anaconda3-2022a/lib/python3.8/site-packages/numpy/core/_methods.py:112\u001b[0m, in \u001b[0;36m_clip_dep_invoke_with_casting\u001b[0;34m(ufunc, out, casting, *args, **kwargs)\u001b[0m\n\u001b[1;32m    110\u001b[0m \u001b[38;5;66;03m# try to deal with broken casting rules\u001b[39;00m\n\u001b[1;32m    111\u001b[0m \u001b[38;5;28;01mtry\u001b[39;00m:\n\u001b[0;32m--> 112\u001b[0m     \u001b[38;5;28;01mreturn\u001b[39;00m \u001b[43mufunc\u001b[49m\u001b[43m(\u001b[49m\u001b[38;5;241;43m*\u001b[39;49m\u001b[43margs\u001b[49m\u001b[43m,\u001b[49m\u001b[43m \u001b[49m\u001b[43mout\u001b[49m\u001b[38;5;241;43m=\u001b[39;49m\u001b[43mout\u001b[49m\u001b[43m,\u001b[49m\u001b[43m \u001b[49m\u001b[38;5;241;43m*\u001b[39;49m\u001b[38;5;241;43m*\u001b[39;49m\u001b[43mkwargs\u001b[49m\u001b[43m)\u001b[49m\n\u001b[1;32m    113\u001b[0m \u001b[38;5;28;01mexcept\u001b[39;00m _exceptions\u001b[38;5;241m.\u001b[39m_UFuncOutputCastingError \u001b[38;5;28;01mas\u001b[39;00m e:\n\u001b[1;32m    114\u001b[0m     \u001b[38;5;66;03m# Numpy 1.17.0, 2019-02-24\u001b[39;00m\n\u001b[1;32m    115\u001b[0m     warnings\u001b[38;5;241m.\u001b[39mwarn(\n\u001b[1;32m    116\u001b[0m         \u001b[38;5;124m\"\u001b[39m\u001b[38;5;124mConverting the output of clip from \u001b[39m\u001b[38;5;132;01m{!r}\u001b[39;00m\u001b[38;5;124m to \u001b[39m\u001b[38;5;132;01m{!r}\u001b[39;00m\u001b[38;5;124m is deprecated. \u001b[39m\u001b[38;5;124m\"\u001b[39m\n\u001b[1;32m    117\u001b[0m         \u001b[38;5;124m\"\u001b[39m\u001b[38;5;124mPass `casting=\u001b[39m\u001b[38;5;130;01m\\\"\u001b[39;00m\u001b[38;5;124munsafe\u001b[39m\u001b[38;5;130;01m\\\"\u001b[39;00m\u001b[38;5;124m` explicitly to silence this warning, or \u001b[39m\u001b[38;5;124m\"\u001b[39m\n\u001b[0;32m   (...)\u001b[0m\n\u001b[1;32m    120\u001b[0m         stacklevel\u001b[38;5;241m=\u001b[39m\u001b[38;5;241m2\u001b[39m\n\u001b[1;32m    121\u001b[0m     )\n",
      "\u001b[0;31mKeyboardInterrupt\u001b[0m: "
     ]
    }
   ],
   "source": [
    "def MI_diff(prob_list, metric='MI_diff'):\n",
    "    if metric == 'MI_diff':\n",
    "        if len(prob_list) > 1:\n",
    "            out = torch.stack(prob_list).mean(dim=0)\n",
    "            entrop = torch.sum(torch.log(out**(-out)), dim=1)\n",
    "            avg_entrop = torch.zeros_like(entrop)\n",
    "            for i in range(len(prob_list)):\n",
    "                entrop1 = torch.sum(torch.log(prob_list[i]**(-prob_list[i])), dim=1)\n",
    "                avg_entrop += entrop1\n",
    "            avg_entrop /= len(prob_list)\n",
    "            met = entrop - avg_entrop\n",
    "        else:\n",
    "            out = prob_list[0]\n",
    "            met = torch.sum(torch.log(out**(-out)), dim=1)\n",
    "    return met\n",
    "\n",
    "eq1 = eq42\n",
    "eq2 = eq69\n",
    "eq3 = eq31\n",
    "ensem2 = torch.stack([eq1.softmax(-1),eq3.softmax(-1)]).mean(dim=0)\n",
    "ensem3 = torch.stack([eq1.softmax(-1),eq3.softmax(-1),eq2.softmax(-1)]).mean(dim=0)\n",
    "\n",
    "metric = MI_diff([eq1.softmax(-1)])\n",
    "\n",
    "sorted_h, ind = torch.sort(metric, descending=True)\n",
    "sorted_out = eq1.softmax(-1)[ind]\n",
    "print(sorted_out.shape)\n",
    "sorted_tar = tar[ind]\n",
    "rejnum = []\n",
    "remacc = []\n",
    "for i in np.arange(1,50000,100):\n",
    "    _,_,acc,all_eq_pcs = get_metrics([(sorted_out[i:])], [sorted_tar[i:]], ['avg logits 2 models'], printing=False, input_softmax=True, num_classes=1000)\n",
    "    rejnum.append(i)\n",
    "    remacc.append(acc)\n",
    "import matplotlib.pyplot as plt\n",
    "\n",
    "metric = MI_diff([eq1.softmax(-1),eq3.softmax(-1)])\n",
    "\n",
    "sorted_h, ind = torch.sort(metric, descending=True)\n",
    "sorted_out = ensem2[ind]\n",
    "print(sorted_out.shape)\n",
    "sorted_tar = tar[ind]\n",
    "rejnum2 = []\n",
    "remacc2 = []\n",
    "for i in np.arange(1,50000,100):\n",
    "    _,_,acc,all_eq_pcs = get_metrics([(sorted_out[i:])], [sorted_tar[i:]], ['avg logits 2 models'], printing=False, input_softmax=True, num_classes=1000)\n",
    "    rejnum2.append(i)\n",
    "    remacc2.append(acc)\n",
    "\n",
    "metric = MI_diff([eq1.softmax(-1),eq3.softmax(-1), eq2.softmax(-1)])\n",
    "    \n",
    "sorted_h, ind = torch.sort(metric, descending=True)\n",
    "sorted_out = ensem3[ind]\n",
    "print(sorted_out.shape)\n",
    "sorted_tar = tar[ind]\n",
    "rejnum3 = []\n",
    "remacc3 = []\n",
    "for i in np.arange(1,50000,100):\n",
    "    _,_,acc,all_eq_pcs = get_metrics([(sorted_out[i:])], [sorted_tar[i:]], ['avg logits 3 models'], printing=False, input_softmax=True, num_classes=1000)\n",
    "    rejnum3.append(i)\n",
    "    remacc3.append(acc)\n",
    "\n",
    "plt.figure()\n",
    "plt.plot(rejnum, remacc)\n",
    "plt.plot(rejnum2, remacc2)\n",
    "plt.plot(rejnum3, remacc3)"
   ]
  },
  {
   "cell_type": "code",
   "execution_count": 16,
   "id": "f992746e",
   "metadata": {},
   "outputs": [
    {
     "data": {
      "text/plain": [
       "[<matplotlib.lines.Line2D at 0x7fc5535508b0>]"
      ]
     },
     "execution_count": 16,
     "metadata": {},
     "output_type": "execute_result"
    },
    {
     "data": {
      "image/png": "[encoded data removed]",
      "text/plain": [
       "<Figure size 432x288 with 1 Axes>"
      ]
     },
     "metadata": {
      "needs_background": "light"
     },
     "output_type": "display_data"
    }
   ],
   "source": []
  },
  {
   "cell_type": "code",
   "execution_count": 27,
   "id": "6a66c77c",
   "metadata": {},
   "outputs": [
    {
     "name": "stdout",
     "output_type": "stream",
     "text": [
      "[0.         0.02040816 0.04081633 0.06122449 0.08163265 0.10204082\n",
      " 0.12244898 0.14285714 0.16326531 0.18367347 0.20408163 0.2244898\n",
      " 0.24489796 0.26530612 0.28571429 0.30612245 0.32653061 0.34693878\n",
      " 0.36734694 0.3877551  0.40816327 0.42857143 0.44897959 0.46938776\n",
      " 0.48979592 0.51020408 0.53061224 0.55102041 0.57142857 0.59183673\n",
      " 0.6122449  0.63265306 0.65306122 0.67346939 0.69387755 0.71428571\n",
      " 0.73469388 0.75510204 0.7755102  0.79591837 0.81632653 0.83673469\n",
      " 0.85714286 0.87755102 0.89795918 0.91836735 0.93877551 0.95918367\n",
      " 0.97959184 1.        ]\n",
      "0.9210170650482178\n"
     ]
    }
   ],
   "source": [
    "np.interp([0.81,0.99],[0.8,0.9,1.0],[0,0.5,1])\n",
    "np.linspace(0,1,10)\n",
    "new_x1 = np.interp(x1, x1, np.linspace(0,1,len(x1)))\n",
    "print(new_x1)\n",
    "print(np.array(acc1).sum()/len(acc1))\n",
    "\n",
    "greedyEI = [eq69,inv31,eq54,eq31,inv,eq42, inv24]\n",
    "greedyEE = [eq69,eq31,eq24,eq42,eq54,eq96]"
   ]
  },
  {
   "cell_type": "code",
   "execution_count": 143,
   "id": "endless-louis",
   "metadata": {},
   "outputs": [],
   "source": [
    "eq69 = torch.load(f\"./logits_files/eq69.pth\")\n",
    "eq42 = torch.load(f\"./logits_files/eq42.pth\")\n",
    "eq31 = torch.load(f\"./logits_files/eq31.pth\")\n",
    "eq24 = torch.load(f\"./logits_files/eq24.pth\")\n",
    "eq54 = torch.load(f\"./logits_files/eq54.pth\")\n",
    "eq96 = torch.load(f\"./logits_files/eq96.pth\")\n",
    "tar = torch.load(f\"./logits_files/targets.pth\")\n",
    "\n",
    "baseR = torch.load(f\"./logits_files/baseR.pth\")\n",
    "base31 = torch.load(f\"./logits_files/base31.pth\")\n",
    "base24 = torch.load(f\"./logits_files/base24.pth\")\n",
    "base69 = torch.load(f\"./logits_files/base69.pth\")\n",
    "\n",
    "inv = torch.load(f\"./logits_files/inv.pth\")\n",
    "inv31 = torch.load(f\"./logits_files/inv31.pth\")\n",
    "inv24 = torch.load(f\"./logits_files/inv24.pth\")\n",
    "inv69 = torch.load(f\"./logits_files/inv69.pth\")\n",
    "\n",
    "m1 = torch.load(f\"./logits_files/sup/m1.pth\")\n",
    "m2 = torch.load(f\"./logits_files/sup/m2.pth\")\n",
    "m3 = torch.load(f\"./logits_files/sup/m3.pth\")\n"
   ]
  },
  {
   "cell_type": "code",
   "execution_count": 141,
   "id": "9ec607bf",
   "metadata": {},
   "outputs": [],
   "source": [
    "class KLD(torch.nn.Module):\n",
    "    def __init__(self):\n",
    "        super(KLD, self).__init__()\n",
    "        self.kl = torch.nn.KLDivLoss(reduction='sum', log_target=True)\n",
    "\n",
    "    def forward(self, p: torch.tensor, q: torch.tensor):\n",
    "        p = F.log_softmax(p, dim=-1)\n",
    "        q = F.log_softmax(q, dim=-1)\n",
    "        return self.kl(p,q)\n",
    "\n",
    "kl_div = KLD()\n",
    "\n",
    "def compute_pair_consensus(pair_preds, target):\n",
    "    agree = (pair_preds[0] == pair_preds[1])\n",
    "    agree_correct = agree & (pair_preds[0] == target)\n",
    "    agree_wrong = agree & (pair_preds[0] != target)\n",
    "    disagree = (pair_preds[0] != pair_preds[1])\n",
    "    disagree_both_wrong = disagree & (pair_preds[0] != target) & (pair_preds[1] != target)\n",
    "    disagree_one_correct = disagree & (pair_preds[0] != target) & (pair_preds[1] == target) \n",
    "    disagree_one_correct2 = disagree & (pair_preds[1] != target) & (pair_preds[0] == target) \n",
    "    return agree.sum(), disagree.sum(), agree_correct.sum(), agree_wrong.sum(), disagree_both_wrong.sum(), disagree_one_correct.sum()+disagree_one_correct2.sum()\n",
    "\n",
    "def get_div_metrics(output1,output2,output3,target):\n",
    "    preds = torch.stack([output1,output2,output3])\n",
    "    avg_std_logits = torch.std(preds, dim=0).mean(dim=-1).mean() # std over members, mean over classes, sum over samples (mean taken later))\n",
    "    avg_std = torch.std(preds.softmax(-1), dim=0).mean(dim=-1).mean() # std over members, mean over classes, sum over samples (mean taken later))\n",
    "    _, all_preds = preds.max(-1)\n",
    "    ag_p, dag_p, ag_c_p, ag_w_p, dag_w_p, dag_c_p = 0, 0, 0, 0, 0, 0\n",
    "    kld = 0.\n",
    "    pairs = ([0,1], [0,2], [1,2])\n",
    "    for p in pairs:\n",
    "        ag, dag, ag_c, ag_w, dag_w, dag_c = compute_pair_consensus(all_preds[p,:], target)\n",
    "        ag_p += ag\n",
    "        dag_p += dag\n",
    "        ag_c_p += ag_c\n",
    "        ag_w_p += ag_w\n",
    "        dag_c_p += dag_c\n",
    "        dag_w_p += dag_w\n",
    "        kld += kl_div(preds[p[0]], preds[p[1]])\n",
    "\n",
    "    ag_sum = ag_p/len(pairs)\n",
    "    dag_sum = dag_p/len(pairs)\n",
    "    ag_c_sum = ag_c_p/len(pairs)\n",
    "    ag_w_sum = ag_w_p/len(pairs)\n",
    "    dag_c_sum = dag_c_p/len(pairs)\n",
    "    dag_w_sum = dag_w_p/len(pairs)\n",
    "    kld_sum = kld/len(pairs)\n",
    "    print(f\"Diversity agree: {ag_sum/len(output1)} | disagree: {dag_sum/len(output1)}\") \n",
    "    print(f\"Ensemble Variance Logits: {avg_std_logits} \") \n",
    "    print(f\"Ensemble Variance: {avg_std}\") \n",
    "    print(f\"KL div: {kld_sum/len(output1)}\") \n",
    "    return ag_sum/len(output1), dag_sum/len(output1), kld_sum/len(output1), avg_std_logits, avg_std"
   ]
  },
  {
   "cell_type": "code",
   "execution_count": 140,
   "id": "9418f235",
   "metadata": {},
   "outputs": [
    {
     "name": "stdout",
     "output_type": "stream",
     "text": [
      "eq69\n",
      "NLL: 0.9093856811523438 | ECE: 0.0337492092939466 | ECE: tensor([0.0337])\n",
      "Acc: 0.7688199877738953\n",
      "eq31\n",
      "NLL: 0.9056292772293091 | ECE: 0.03064089876106011 | ECE: tensor([0.0306])\n",
      "Acc: 0.7682399749755859\n",
      "inv\n",
      "NLL: 0.9599095582962036 | ECE: 0.03850952307265253 | ECE: tensor([0.0385])\n",
      "Acc: 0.7601400017738342\n"
     ]
    },
    {
     "data": {
      "image/png": "[encoded data removed]",
      "text/plain": [
       "<Figure size 432x288 with 2 Axes>"
      ]
     },
     "metadata": {
      "needs_background": "light"
     },
     "output_type": "display_data"
    }
   ],
   "source": [
    "_,_,_,[eq69_pc] = get_metrics([eq69], [tar], ['eq69'], printing=True, input_softmax=False, num_classes=1000)\n",
    "_,_,_,[eq31_pc] = get_metrics([eq31], [tar], ['eq31'], printing=True, input_softmax=False, num_classes=1000)\n",
    "\n",
    "_,_,_,[inv_pc] = get_metrics([inv], [tar], ['inv'], printing=True, input_softmax=False, num_classes=1000)\n",
    "\n",
    "acc_pc_eq = eq69_pc.cpu()\n",
    "acc_pc_inv = inv_pc.cpu()\n",
    "# acc_pc_bei = acc_pc_bei.cpu()\n",
    "y = torch.stack([acc_pc_eq,acc_pc_inv], dim=-1)*100\n",
    "\n",
    "ystd = torch.std(y,dim=-1)\n",
    "val, ind = torch.sort(ystd, descending=True)\n",
    "\n",
    "from imagenet_stubs.imagenet_2012_labels import label_to_name\n",
    "s_labs = ['vestment', 'scale', 'plate rack', 'corkscrew', 'cauldron', 'Shih-Tzu', 'microphone', 'spotlight', 'trash can', 'purse']\n",
    "sind = np.array([887, 778, 729, 512,469, 155,650, 818, 412, 748])\n",
    "# sind = ind.numpy()\n",
    "# sind = ind.numpy()[:30]\n",
    "\n",
    "idxs = np.arange(len(sind))\n",
    "fig = plt.figure(figsize=(6,4))\n",
    "# plt.ylabel(\"Per class accuracy (%)\")\n",
    "# plt.xlabel(\"Class\")\n",
    "\n",
    "ax = plt.subplot(211)\n",
    "ax.set_xticks(idxs)\n",
    "xticks = [f'{j}: {label_to_name(j)}' for j in sind]\n",
    "ax.bar(idxs-0.125, y[sind,0], width=0.25, color='b', align='center', label='eq')\n",
    "ax.bar(idxs+0.125, y[sind,1], width=0.25, color='r', align='center', label='inv')\n",
    "# ax.bar(idxs+0.2, y[sind,0], width=0.2, color='r', align='center', label='inv')\n",
    "# Set number of ticks for x-axis\n",
    "# ax.set_xticks(xticks)\n",
    "# Set ticks labels for x-axis\n",
    "# ax.set_xticklabels(xticks, rotation=45, ha='right', fontsize=8)\n",
    "plt.legend(loc='right',bbox_to_anchor=(1.16, 0.5))\n",
    "plt.tight_layout()\n",
    "plt.ylim((0,100))\n",
    "ax.set_yticks(np.linspace(0,100,3))\n",
    "ax.set_xticklabels([])\n",
    "plt.text(6,82,'Avg. delta = 15.2%', bbox=dict(facecolor='red', alpha=0.2))\n",
    "\n",
    "acc_pc_eq = eq69_pc.cpu()\n",
    "acc_pc_eq2 = eq31_pc.cpu()\n",
    "y2 = torch.stack([acc_pc_eq, acc_pc_eq2], dim=-1)*100\n",
    "\n",
    "ax = plt.subplot(212)\n",
    "ax.set_xticks(idxs)\n",
    "# xticks = [f'{j}: {label_to_name(j)}' for j in sind]\n",
    "xticks = s_labs\n",
    "ax.bar(idxs-0.125, y2[sind,0], width=0.25, color='b', align='center', label='eq1')\n",
    "ax.bar(idxs+0.125, y2[sind,1], width=0.25, color='m', align='center', label='eq2')\n",
    "# Set number of ticks for x-axis\n",
    "# ax.set_xticks(xticks)\n",
    "# Set ticks labels for x-axis\n",
    "\n",
    "ax.set_xticklabels(xticks, rotation=45, ha='right', fontsize=10)\n",
    "ax.set_yticks(np.linspace(0,100,3))\n",
    "\n",
    "plt.legend(loc='right',bbox_to_anchor=(1.16, 0.5))\n",
    "plt.tight_layout()\n",
    "plt.ylim((0,100))\n",
    "plt.text(6,82,'Avg. delta = 5.0%', bbox=dict(facecolor='magenta', alpha=0.2))\n",
    "plt.savefig('ei_vs_ee_selected_bars.pdf')\n"
   ]
  },
  {
   "cell_type": "code",
   "execution_count": 142,
   "id": "23d4c4e5",
   "metadata": {},
   "outputs": [
    {
     "ename": "NameError",
     "evalue": "name 'm1' is not defined",
     "output_type": "error",
     "traceback": [
      "\u001b[0;31m---------------------------------------------------------------------------\u001b[0m",
      "\u001b[0;31mNameError\u001b[0m                                 Traceback (most recent call last)",
      "Input \u001b[0;32mIn [142]\u001b[0m, in \u001b[0;36m<cell line: 1>\u001b[0;34m()\u001b[0m\n\u001b[0;32m----> 1\u001b[0m get_div_metrics(\u001b[43mm1\u001b[49m,m2,m3,tar)\n",
      "\u001b[0;31mNameError\u001b[0m: name 'm1' is not defined"
     ]
    }
   ],
   "source": [
    "get_div_metrics(m1,m2,m3,tar)"
   ]
  },
  {
   "cell_type": "code",
   "execution_count": 111,
   "id": "d2da598b",
   "metadata": {},
   "outputs": [
    {
     "data": {
      "text/plain": [
       "['459: brassiere, bra, bandeau',\n",
       " '778: scale, weighing machine',\n",
       " '729: plate rack',\n",
       " '504: coffee mug',\n",
       " '469: caldron, cauldron',\n",
       " '155: Shih-Tzu',\n",
       " '442: bell cote, bell cot',\n",
       " '559: folding chair',\n",
       " '843: swing',\n",
       " '264: Cardigan, Cardigan Welsh corgi',\n",
       " '445: bikini, two-piece',\n",
       " '650: microphone, mike',\n",
       " '998: ear, spike, capitulum',\n",
       " '748: purse',\n",
       " '32: tailed frog, bell toad, ribbed toad, tailed toad, Ascaphus trui',\n",
       " '449: boathouse',\n",
       " '818: spotlight, spot',\n",
       " '412: ashcan, trash can, garbage can, wastebin, ash bin, ash-bin, ashbin, dustbin, trash barrel, trash bin',\n",
       " '887: vestment',\n",
       " '872: tripod',\n",
       " '402: acoustic guitar',\n",
       " '636: mailbag, postbag',\n",
       " '512: corkscrew, bottle screw',\n",
       " '761: remote control, remote',\n",
       " '577: gong, tam-tam',\n",
       " '165: black-and-tan coonhound',\n",
       " '583: guillotine',\n",
       " '637: mailbox, letter box',\n",
       " '367: chimpanzee, chimp, Pan troglodytes',\n",
       " '860: tobacco shop, tobacconist shop, tobacconist']"
      ]
     },
     "execution_count": 111,
     "metadata": {},
     "output_type": "execute_result"
    }
   ],
   "source": [
    "sind\n",
    "[f'{j}: {label_to_name(j)}' for j in sind]"
   ]
  },
  {
   "cell_type": "code",
   "execution_count": 134,
   "id": "2bdb03ca",
   "metadata": {},
   "outputs": [
    {
     "name": "stdout",
     "output_type": "stream",
     "text": [
      "tensor(15.2000)\n",
      "tensor(5.)\n"
     ]
    }
   ],
   "source": [
    "print(torch.abs(y[sind,0] - y[sind,1]).mean())\n",
    "print(torch.abs(y2[sind,0] - y2[sind,1]).mean())\n"
   ]
  },
  {
   "cell_type": "code",
   "execution_count": 9,
   "id": "chronic-cameroon",
   "metadata": {},
   "outputs": [
    {
     "name": "stdout",
     "output_type": "stream",
     "text": [
      "eq69\n",
      "NLL: 0.9093856811523438 | ECE: 0.0337492092939466 | ECE: tensor([0.0337])\n",
      "Acc: 0.7688199877738953\n",
      "eq42\n",
      "NLL: 0.9061235189437866 | ECE: 0.030388316879942992 | ECE: tensor([0.0304])\n",
      "Acc: 0.7691799998283386\n",
      "eq31\n",
      "NLL: 0.9056292772293091 | ECE: 0.03064089876106011 | ECE: tensor([0.0306])\n",
      "Acc: 0.7682399749755859\n",
      "eq24\n",
      "NLL: 0.9061529636383057 | ECE: 0.034896882147118426 | ECE: tensor([0.0349])\n",
      "Acc: 0.7687000036239624\n",
      "eq54\n",
      "NLL: 0.9062519669532776 | ECE: 0.0299696643065102 | ECE: tensor([0.0300])\n",
      "Acc: 0.7698000073432922\n",
      "eq96\n",
      "NLL: 0.9118061065673828 | ECE: 0.01592051938500256 | ECE: tensor([0.0159])\n",
      "Acc: 0.7660800218582153\n",
      "baseR\n",
      "NLL: 0.92169588804245 | ECE: 0.02982491346189754 | ECE: tensor([0.0298])\n",
      "Acc: 0.7664600014686584\n",
      "base69\n",
      "NLL: 0.9307573437690735 | ECE: 0.03674569608774035 | ECE: tensor([0.0367])\n",
      "Acc: 0.7646600008010864\n",
      "base31\n",
      "NLL: 0.9237776398658752 | ECE: 0.03522912882274018 | ECE: tensor([0.0352])\n",
      "Acc: 0.7649199962615967\n",
      "base24\n",
      "NLL: 0.9240397810935974 | ECE: 0.03593396563421934 | ECE: tensor([0.0359])\n",
      "Acc: 0.7640799880027771\n",
      "inv\n",
      "NLL: 0.9599095582962036 | ECE: 0.03850952307265253 | ECE: tensor([0.0385])\n",
      "Acc: 0.7601400017738342\n",
      "inv69\n",
      "NLL: 0.9665409326553345 | ECE: 0.0469486247720197 | ECE: tensor([0.0469])\n",
      "Acc: 0.7595199942588806\n",
      "inv31\n",
      "NLL: 0.9739283323287964 | ECE: 0.04929416076086461 | ECE: tensor([0.0493])\n",
      "Acc: 0.7590399980545044\n",
      "inv24\n",
      "NLL: 0.9621843099594116 | ECE: 0.04752021607685833 | ECE: tensor([0.0475])\n",
      "Acc: 0.7599400281906128\n"
     ]
    }
   ],
   "source": [
    "\n",
    "num_classes=1000\n",
    "all_eq = [eq69, eq42, eq31, eq24, eq54, eq96]\n",
    "tars = [tar, tar, tar, tar, tar, tar]\n",
    "names = ['eq69', 'eq42', 'eq31', 'eq24', 'eq54', 'eq96']\n",
    "_,_,_,all_eq_pcs = get_metrics(all_eq, tars, names, printing=True, input_softmax=False, num_classes=1000)\n",
    "\n",
    "all_base = [baseR, base69, base31, base24]\n",
    "tars = [tar, tar, tar, tar]\n",
    "names = ['baseR', 'base69','base31', 'base24']\n",
    "_,_,_,all_base_pcs = get_metrics(all_base, tars, names, printing=True, input_softmax=False, num_classes=1000)\n",
    "\n",
    "all_inv = [inv, inv69, inv31, inv24]\n",
    "tars = [tar, tar, tar, tar]\n",
    "names = ['inv', 'inv69','inv31', 'inv24']\n",
    "_,_,_,all_inv_pcs = get_metrics(all_inv, tars, names, printing=True, input_softmax=False, num_classes=1000)\n"
   ]
  },
  {
   "cell_type": "code",
   "execution_count": 88,
   "id": "coordinated-disco",
   "metadata": {},
   "outputs": [
    {
     "name": "stdout",
     "output_type": "stream",
     "text": [
      "use order B, I, E\n",
      "all equal best: 5.4%\n",
      "B,I equal best: 5.0%\n",
      "B,E equal best: 9.0%\n",
      "I,E equal best: 5.2%\n",
      "B uniquely best: 27.0%\n",
      "I uniquely best: 21.0%\n",
      "E uniquely best: 27.4%\n",
      "use order I, E\n",
      "all equal best: 17.3%\n",
      "I uniquely best: 34.5%\n",
      "E uniquely best: 48.2%\n"
     ]
    }
   ],
   "source": [
    "get_classwise(all_base_pcs[0], all_inv_pcs[0], all_eq_pcs[0], num_classes=1000)\n",
    "get_classwise_IE(all_inv_pcs[0], all_eq_pcs[0], num_classes=1000)"
   ]
  },
  {
   "cell_type": "code",
   "execution_count": 77,
   "id": "c979c4e9",
   "metadata": {},
   "outputs": [
    {
     "name": "stdout",
     "output_type": "stream",
     "text": [
      "E\n",
      "NLL: 0.9073 +/- 0.0017\n",
      "ECE: 0.0333 +/- 0.0019\n",
      "Acc: 0.7688 +/- 0.0003\n",
      "EE\n",
      "NLL: 0.8416 +/- 0.0033\n",
      "ECE: 0.0163 +/- 0.0005\n",
      "Acc: 0.7823 +/- 0.0007\n",
      "EEE\n",
      "NLL: 0.8185 +/- 0.0028\n",
      "ECE: 0.0186 +/- 0.0010\n",
      "Acc: 0.7876 +/- 0.0009\n",
      "EEEE\n",
      "NLL: 0.8099 +/- 0.0022\n",
      "ECE: 0.0213 +/- 0.0014\n",
      "Acc: 0.7889 +/- 0.0004\n"
     ]
    }
   ],
   "source": [
    "ensem_BEI(all_eq,all_base,all_inv,tar,num_E=1, num_B=0, num_I=0)\n",
    "ensem_BEI(all_eq,all_base,all_inv,tar,num_E=2, num_B=0, num_I=0)\n",
    "ensem_BEI(all_eq,all_base,all_inv,tar,num_E=3, num_B=0, num_I=0)\n",
    "ensem_BEI(all_eq,all_base,all_inv,tar,num_E=4, num_B=0, num_I=0)\n"
   ]
  },
  {
   "cell_type": "code",
   "execution_count": 78,
   "id": "acfa3d65",
   "metadata": {},
   "outputs": [
    {
     "name": "stdout",
     "output_type": "stream",
     "text": [
      "B\n",
      "NLL: 0.9280 +/- 0.0034\n",
      "ECE: 0.0367 +/- 0.0008\n",
      "Acc: 0.7646 +/- 0.0003\n",
      "BB\n",
      "NLL: 0.8544 +/- 0.0012\n",
      "ECE: 0.0157 +/- 0.0007\n",
      "Acc: 0.7800 +/- 0.0008\n",
      "BBB\n",
      "NLL: 0.8307 +/- 0.0008\n",
      "ECE: 0.0188 +/- 0.0010\n",
      "Acc: 0.7856 +/- 0.0005\n",
      "BBBB\n",
      "NLL: 0.8186 +/- 0.0000\n",
      "ECE: 0.0219 +/- 0.0000\n",
      "Acc: 0.7887 +/- 0.0000\n"
     ]
    }
   ],
   "source": [
    "ensem_BEI(all_eq,all_base,all_inv,tar,num_E=0, num_B=1, num_I=0)\n",
    "ensem_BEI(all_eq,all_base,all_inv,tar,num_E=0, num_B=2, num_I=0)\n",
    "ensem_BEI(all_eq,all_base,all_inv,tar,num_E=0, num_B=3, num_I=0)\n",
    "ensem_BEI(all_eq,all_base,all_inv,tar,num_E=0, num_B=4, num_I=0)\n"
   ]
  },
  {
   "cell_type": "code",
   "execution_count": 66,
   "id": "completed-oxide",
   "metadata": {},
   "outputs": [
    {
     "name": "stdout",
     "output_type": "stream",
     "text": [
      "E\n",
      "NLL: 0.9078 +/- 0.0024\n",
      "ECE: 0.0281 +/- 0.0063\n",
      "Acc: 0.7684 +/- 0.0013\n",
      "B\n",
      "NLL: 0.9226 +/- 0.0011\n",
      "ECE: 0.0321 +/- 0.0028\n",
      "Acc: 0.7657 +/- 0.0010\n",
      "I\n",
      "NLL: 0.9655 +/- 0.0047\n",
      "ECE: 0.0463 +/- 0.0040\n",
      "Acc: 0.7594 +/- 0.0004\n"
     ]
    }
   ],
   "source": [
    "# 1 model\n",
    "ensem_BEI(all_eq,all_base,all_inv,tar,num_E=1, num_B=0, num_I=0)\n",
    "ensem_BEI(all_eq,all_base,all_inv,tar,num_E=0, num_B=1, num_I=0)\n",
    "ensem_BEI(all_eq,all_base,all_inv,tar,num_E=0, num_B=0, num_I=1)"
   ]
  },
  {
   "cell_type": "code",
   "execution_count": 57,
   "id": "aware-thailand",
   "metadata": {},
   "outputs": [
    {
     "name": "stdout",
     "output_type": "stream",
     "text": [
      "0.917552832365036\n",
      "0.9210170650482178\n",
      "0.9205694258213043\n",
      "0.918105605840683\n",
      "0.9199481451511383\n",
      "EE\n",
      "NLL: 0.8434 +/- 0.0038\n",
      "ECE: 0.0150 +/- 0.0010\n",
      "Acc: 0.7820 +/- 0.0008\n",
      "AUUQC: 0.919439 +/- 0.001368\n",
      "0.92242445230484\n",
      "0.9217429745197296\n",
      "0.9210129797458648\n",
      "0.9217754411697388\n",
      "0.9179157197475434\n",
      "EI\n",
      "NLL: 0.8463 +/- 0.0035\n",
      "ECE: 0.0146 +/- 0.0006\n",
      "Acc: 0.7817 +/- 0.0013\n",
      "AUUQC: 0.920974 +/- 0.001593\n"
     ]
    }
   ],
   "source": [
    "# 2 models\n",
    "ensem_BEI(all_eq,all_base,all_inv,tar,num_E=2, num_B=0, num_I=0)\n",
    "ensem_BEI(all_eq,all_base,all_inv,tar,num_E=1, num_B=0, num_I=1)"
   ]
  },
  {
   "cell_type": "code",
   "execution_count": 55,
   "id": "completed-justice",
   "metadata": {},
   "outputs": [
    {
     "name": "stdout",
     "output_type": "stream",
     "text": [
      "0.9251684522628785\n",
      "0.9230803835391999\n",
      "0.9226892268657685\n",
      "0.9226892268657685\n",
      "0.924967097043991\n",
      "EEE\n",
      "NLL: 0.8213 +/- 0.0030\n",
      "ECE: 0.0174 +/- 0.0010\n",
      "Acc: 0.7863 +/- 0.0008\n",
      "AUUQC: 0.923719 +/- 0.001112\n",
      "0.924110199213028\n",
      "0.9262438130378723\n",
      "0.9226541590690612\n",
      "0.9241497206687928\n",
      "0.9257439875602722\n",
      "EEI\n",
      "NLL: 0.8203 +/- 0.0033\n",
      "ECE: 0.0219 +/- 0.0020\n",
      "Acc: 0.7878 +/- 0.0007\n",
      "AUUQC: 0.924580 +/- 0.001284\n"
     ]
    }
   ],
   "source": [
    "# 3 models\n",
    "ensem_BEI(all_eq,all_base,all_inv,tar,num_E=3, num_B=0, num_I=0)\n",
    "ensem_BEI(all_eq,all_base,all_inv,tar,num_E=2, num_B=0, num_I=1)"
   ]
  },
  {
   "cell_type": "code",
   "execution_count": 56,
   "id": "ca2ec95c",
   "metadata": {},
   "outputs": [
    {
     "name": "stdout",
     "output_type": "stream",
     "text": [
      "0.9258793985843659\n",
      "0.9258793985843659\n",
      "0.925422215461731\n",
      "0.9273972761631012\n",
      "0.9249031710624694\n",
      "EEEE\n",
      "NLL: 0.8103 +/- 0.0022\n",
      "ECE: 0.0216 +/- 0.0008\n",
      "Acc: 0.7895 +/- 0.0009\n",
      "AUUQC: 0.925896 +/- 0.000832\n",
      "0.9274159777164459\n",
      "0.9266562211513519\n",
      "0.9271940863132477\n",
      "0.9278929936885834\n",
      "0.9266080808639526\n",
      "EEII\n",
      "NLL: 0.8056 +/- 0.0011\n",
      "ECE: 0.0237 +/- 0.0004\n",
      "Acc: 0.7909 +/- 0.0004\n",
      "AUUQC: 0.927153 +/- 0.000482\n"
     ]
    }
   ],
   "source": [
    "# 4 models\n",
    "ensem_BEI(all_eq,all_base,all_inv,tar,num_E=4, num_B=0, num_I=0)\n",
    "ensem_BEI(all_eq,all_base,all_inv,tar,num_E=2, num_B=0, num_I=2)"
   ]
  },
  {
   "cell_type": "code",
   "execution_count": 58,
   "id": "6750bfb9",
   "metadata": {},
   "outputs": [
    {
     "name": "stdout",
     "output_type": "stream",
     "text": [
      "0.9267890679836274\n",
      "0.9277769207954407\n",
      "0.9270445430278778\n",
      "0.9263663101196289\n",
      "0.9265766191482544\n",
      "EEEEE\n",
      "NLL: 0.8023 +/- 0.0018\n",
      "ECE: 0.0235 +/- 0.0009\n",
      "Acc: 0.7912 +/- 0.0003\n",
      "AUUQC: 0.926911 +/- 0.000488\n",
      "0.9279619419574737\n",
      "0.9274400055408478\n",
      "0.9284610176086425\n",
      "0.9272146761417389\n",
      "0.9282303941249848\n",
      "EEEII\n",
      "NLL: 0.7980 +/- 0.0018\n",
      "ECE: 0.0275 +/- 0.0008\n",
      "Acc: 0.7931 +/- 0.0005\n",
      "AUUQC: 0.927862 +/- 0.000469\n"
     ]
    }
   ],
   "source": [
    "# 5 models\n",
    "ensem_BEI(all_eq,all_base,all_inv,tar,num_E=5, num_B=0, num_I=0)\n",
    "ensem_BEI(all_eq,all_base,all_inv,tar,num_E=3, num_B=0, num_I=2)"
   ]
  },
  {
   "cell_type": "code",
   "execution_count": 90,
   "id": "stylish-jersey",
   "metadata": {},
   "outputs": [
    {
     "name": "stdout",
     "output_type": "stream",
     "text": [
      "E\n",
      "NLL: 1.5568 +/- 0.0041\n",
      "ECE: 0.0804 +/- 0.0009\n",
      "Acc: 0.6455 +/- 0.0014\n",
      "B\n",
      "NLL: 1.5938 +/- 0.0068\n",
      "ECE: 0.0850 +/- 0.0017\n",
      "Acc: 0.6400 +/- 0.0032\n",
      "I\n",
      "NLL: 1.6894 +/- 0.0013\n",
      "ECE: 0.1030 +/- 0.0002\n",
      "Acc: 0.6315 +/- 0.0018\n",
      "EE\n",
      "NLL: 1.4482 +/- 0.0035\n",
      "ECE: 0.0420 +/- 0.0028\n",
      "Acc: 0.6609 +/- 0.0016\n",
      "EI\n",
      "NLL: 1.4737 +/- 0.0046\n",
      "ECE: 0.0429 +/- 0.0024\n",
      "Acc: 0.6593 +/- 0.0027\n",
      "EEE\n",
      "NLL: 1.4101 +/- 0.0003\n",
      "ECE: 0.0307 +/- 0.0015\n",
      "Acc: 0.6661 +/- 0.0012\n",
      "EEI\n",
      "NLL: 1.4190 +/- 0.0026\n",
      "ECE: 0.0271 +/- 0.0019\n",
      "Acc: 0.6666 +/- 0.0021\n",
      "EEEE\n",
      "NLL: 1.3908 +/- 0.0016\n",
      "ECE: 0.0242 +/- 0.0023\n",
      "Acc: 0.6709 +/- 0.0011\n",
      "EEEI\n",
      "NLL: 1.3950 +/- 0.0018\n",
      "ECE: 0.0222 +/- 0.0015\n",
      "Acc: 0.6709 +/- 0.0016\n",
      "EEII\n",
      "NLL: 1.4056 +/- 0.0026\n",
      "ECE: 0.0243 +/- 0.0016\n",
      "Acc: 0.6689 +/- 0.0017\n",
      "use order B, I, E\n",
      "all equal best: 21.6%\n",
      "B,I equal best: 8.4%\n",
      "B,E equal best: 12.1%\n",
      "I,E equal best: 9.9%\n",
      "B uniquely best: 15.7%\n",
      "I uniquely best: 12.4%\n",
      "E uniquely best: 19.9%\n",
      "use order I, E\n",
      "all equal best: 40.2%\n",
      "I uniquely best: 23.7%\n",
      "E uniquely best: 36.1%\n"
     ]
    }
   ],
   "source": [
    "# ImageNet-V2\n",
    "ds = 'v2'\n",
    "num_classes=1000\n",
    "\n",
    "eq69 = torch.load(f\"./logits_files/eq69_eval_on_{ds}.pth\")\n",
    "eq42 = torch.load(f\"./logits_files/eq42_eval_on_{ds}.pth\")\n",
    "eq31 = torch.load(f\"./logits_files/eq31_eval_on_{ds}.pth\")\n",
    "eq24 = torch.load(f\"./logits_files/eq24_eval_on_{ds}.pth\")\n",
    "eq54 = torch.load(f\"./logits_files/eq54_eval_on_{ds}.pth\")\n",
    "eq96 = torch.load(f\"./logits_files/eq96_eval_on_{ds}.pth\")\n",
    "tar = torch.load(f\"./logits_files/{ds}_targets.pth\")\n",
    "\n",
    "baseR = torch.load(f\"./logits_files/baseR_eval_on_{ds}.pth\")\n",
    "base31 = torch.load(f\"./logits_files/base31_eval_on_{ds}.pth\")\n",
    "base24 = torch.load(f\"./logits_files/base24_eval_on_{ds}.pth\")\n",
    "base69 = torch.load(f\"./logits_files/base69_eval_on_{ds}.pth\")\n",
    "\n",
    "inv = torch.load(f\"./logits_files/inv_eval_on_{ds}.pth\")\n",
    "inv31 = torch.load(f\"./logits_files/inv31_eval_on_{ds}.pth\")\n",
    "inv24 = torch.load(f\"./logits_files/inv24_eval_on_{ds}.pth\")\n",
    "inv69 = torch.load(f\"./logits_files/inv69_eval_on_{ds}.pth\")\n",
    "\n",
    "all_eq = [eq69, eq42, eq31, eq24, eq54, eq96]\n",
    "tars = [tar, tar, tar, tar, tar, tar]\n",
    "names = ['eq69', 'eq42', 'eq31', 'eq24', 'eq54', 'eq96']\n",
    "_,_,_,all_eq_pcs = get_metrics(all_eq, tars, names, printing=False, input_softmax=False, num_classes=1000)\n",
    "\n",
    "all_base = [baseR, base69, base31, base24]\n",
    "tars = [tar, tar, tar, tar]\n",
    "names = ['baseR', 'base69','base31', 'base24']\n",
    "_,_,_,all_base_pcs = get_metrics(all_base, tars, names, printing=False, input_softmax=False, num_classes=1000)\n",
    "\n",
    "all_inv = [inv, inv69, inv31, inv24]\n",
    "tars = [tar, tar, tar, tar]\n",
    "names = ['inv', 'inv69','inv31', 'inv24']\n",
    "_,_,_,all_inv_pcs = get_metrics(all_inv, tars, names, printing=False, input_softmax=False, num_classes=1000)\n",
    "\n",
    "# 1 model\n",
    "ensem_BEI(all_eq,all_base,all_inv,tar,num_E=1, num_B=0, num_I=0)\n",
    "ensem_BEI(all_eq,all_base,all_inv,tar,num_E=0, num_B=1, num_I=0)\n",
    "ensem_BEI(all_eq,all_base,all_inv,tar,num_E=0, num_B=0, num_I=1)\n",
    "\n",
    "# 2 models\n",
    "ensem_BEI(all_eq,all_base,all_inv,tar,num_E=2, num_B=0, num_I=0)\n",
    "ensem_BEI(all_eq,all_base,all_inv,tar,num_E=1, num_B=0, num_I=1)\n",
    "\n",
    "# 3 models\n",
    "ensem_BEI(all_eq,all_base,all_inv,tar,num_E=3, num_B=0, num_I=0)\n",
    "ensem_BEI(all_eq,all_base,all_inv,tar,num_E=2, num_B=0, num_I=1)\n",
    "\n",
    "# 4 models\n",
    "ensem_BEI(all_eq,all_base,all_inv,tar,num_E=4, num_B=0, num_I=0)\n",
    "ensem_BEI(all_eq,all_base,all_inv,tar,num_E=3, num_B=0, num_I=1)\n",
    "ensem_BEI(all_eq,all_base,all_inv,tar,num_E=2, num_B=0, num_I=2)\n",
    "\n",
    "\n",
    "get_classwise(all_base_pcs[0], all_inv_pcs[0], all_eq_pcs[0], num_classes=num_classes)\n",
    "get_classwise_IE(all_inv_pcs[0], all_eq_pcs[0], num_classes=num_classes)"
   ]
  },
  {
   "cell_type": "code",
   "execution_count": 92,
   "id": "fantastic-delhi",
   "metadata": {},
   "outputs": [
    {
     "name": "stdout",
     "output_type": "stream",
     "text": [
      "E\n",
      "NLL: 5.1301 +/- 0.0480\n",
      "ECE: 0.2432 +/- 0.0038\n",
      "Acc: 0.2402 +/- 0.0017\n",
      "B\n",
      "NLL: 5.1780 +/- 0.0734\n",
      "ECE: 0.2367 +/- 0.0106\n",
      "Acc: 0.2365 +/- 0.0031\n",
      "I\n",
      "NLL: 5.6315 +/- 0.0556\n",
      "ECE: 0.2707 +/- 0.0056\n",
      "Acc: 0.2120 +/- 0.0039\n",
      "EE\n",
      "NLL: 4.7596 +/- 0.0450\n",
      "ECE: 0.1781 +/- 0.0041\n",
      "Acc: 0.2549 +/- 0.0023\n",
      "EI\n",
      "NLL: 4.8908 +/- 0.0647\n",
      "ECE: 0.1762 +/- 0.0055\n",
      "Acc: 0.2457 +/- 0.0029\n",
      "EEE\n",
      "NLL: 4.6272 +/- 0.0122\n",
      "ECE: 0.1556 +/- 0.0021\n",
      "Acc: 0.2611 +/- 0.0009\n",
      "EEI\n",
      "NLL: 4.7108 +/- 0.0189\n",
      "ECE: 0.1508 +/- 0.0012\n",
      "Acc: 0.2575 +/- 0.0008\n",
      "EEEE\n",
      "NLL: 4.5596 +/- 0.0085\n",
      "ECE: 0.1424 +/- 0.0019\n",
      "Acc: 0.2644 +/- 0.0006\n",
      "EEEI\n",
      "NLL: 4.6224 +/- 0.0306\n",
      "ECE: 0.1385 +/- 0.0015\n",
      "Acc: 0.2620 +/- 0.0011\n",
      "EEII\n",
      "NLL: 4.6873 +/- 0.0282\n",
      "ECE: 0.1384 +/- 0.0015\n",
      "Acc: 0.2566 +/- 0.0016\n",
      "use order B, I, E\n",
      "all equal best: 11.3%\n",
      "B,I equal best: 3.3%\n",
      "B,E equal best: 5.9%\n",
      "I,E equal best: 4.3%\n",
      "B uniquely best: 29.4%\n",
      "I uniquely best: 15.3%\n",
      "E uniquely best: 30.5%\n",
      "use order I, E\n",
      "all equal best: 21.2%\n",
      "I uniquely best: 25.7%\n",
      "E uniquely best: 53.1%\n"
     ]
    }
   ],
   "source": [
    "# ImageNet-Sketch\n",
    "ds = 'sketch'\n",
    "num_classes=1000\n",
    "\n",
    "eq69 = torch.load(f\"./logits_files/eq69_eval_on_{ds}.pth\")\n",
    "eq42 = torch.load(f\"./logits_files/eq42_eval_on_{ds}.pth\")\n",
    "eq31 = torch.load(f\"./logits_files/eq31_eval_on_{ds}.pth\")\n",
    "eq24 = torch.load(f\"./logits_files/eq24_eval_on_{ds}.pth\")\n",
    "eq54 = torch.load(f\"./logits_files/eq54_eval_on_{ds}.pth\")\n",
    "eq96 = torch.load(f\"./logits_files/eq96_eval_on_{ds}.pth\")\n",
    "tar = torch.load(f\"./logits_files/{ds}_targets.pth\")\n",
    "\n",
    "baseR = torch.load(f\"./logits_files/baseR_eval_on_{ds}.pth\")\n",
    "base31 = torch.load(f\"./logits_files/base31_eval_on_{ds}.pth\")\n",
    "base24 = torch.load(f\"./logits_files/base24_eval_on_{ds}.pth\")\n",
    "base69 = torch.load(f\"./logits_files/base69_eval_on_{ds}.pth\")\n",
    "\n",
    "inv = torch.load(f\"./logits_files/inv_eval_on_{ds}.pth\")\n",
    "inv31 = torch.load(f\"./logits_files/inv31_eval_on_{ds}.pth\")\n",
    "inv24 = torch.load(f\"./logits_files/inv24_eval_on_{ds}.pth\")\n",
    "inv69 = torch.load(f\"./logits_files/inv69_eval_on_{ds}.pth\")\n",
    "\n",
    "all_eq = [eq69, eq42, eq31, eq24, eq54, eq96]\n",
    "tars = [tar, tar, tar, tar, tar, tar]\n",
    "names = ['eq69', 'eq42', 'eq31', 'eq24', 'eq54', 'eq96']\n",
    "_,_,_,all_eq_pcs = get_metrics(all_eq, tars, names, printing=False, input_softmax=False, num_classes=1000)\n",
    "\n",
    "all_base = [baseR, base69, base31, base24]\n",
    "tars = [tar, tar, tar, tar]\n",
    "names = ['baseR', 'base69','base31', 'base24']\n",
    "_,_,_,all_base_pcs = get_metrics(all_base, tars, names, printing=False, input_softmax=False, num_classes=1000)\n",
    "\n",
    "all_inv = [inv, inv69, inv31, inv24]\n",
    "tars = [tar, tar, tar, tar]\n",
    "names = ['inv', 'inv69','inv31', 'inv24']\n",
    "_,_,_,all_inv_pcs = get_metrics(all_inv, tars, names, printing=False, input_softmax=False, num_classes=1000)\n",
    "\n",
    "# 1 model\n",
    "ensem_BEI(all_eq,all_base,all_inv,tar,num_E=1, num_B=0, num_I=0)\n",
    "ensem_BEI(all_eq,all_base,all_inv,tar,num_E=0, num_B=1, num_I=0)\n",
    "ensem_BEI(all_eq,all_base,all_inv,tar,num_E=0, num_B=0, num_I=1)\n",
    "\n",
    "# 2 models\n",
    "ensem_BEI(all_eq,all_base,all_inv,tar,num_E=2, num_B=0, num_I=0)\n",
    "ensem_BEI(all_eq,all_base,all_inv,tar,num_E=1, num_B=0, num_I=1)\n",
    "\n",
    "# 3 models\n",
    "ensem_BEI(all_eq,all_base,all_inv,tar,num_E=3, num_B=0, num_I=0)\n",
    "ensem_BEI(all_eq,all_base,all_inv,tar,num_E=2, num_B=0, num_I=1)\n",
    "\n",
    "# 4 models\n",
    "ensem_BEI(all_eq,all_base,all_inv,tar,num_E=4, num_B=0, num_I=0)\n",
    "ensem_BEI(all_eq,all_base,all_inv,tar,num_E=3, num_B=0, num_I=1)\n",
    "ensem_BEI(all_eq,all_base,all_inv,tar,num_E=2, num_B=0, num_I=2)\n",
    "\n",
    "\n",
    "get_classwise(all_base_pcs[0], all_inv_pcs[0], all_eq_pcs[0], num_classes=num_classes)\n",
    "get_classwise_IE(all_inv_pcs[0], all_eq_pcs[0], num_classes=num_classes)"
   ]
  },
  {
   "cell_type": "code",
   "execution_count": 98,
   "id": "different-declaration",
   "metadata": {},
   "outputs": [
    {
     "name": "stdout",
     "output_type": "stream",
     "text": [
      "E\n",
      "NLL: 5.5136 +/- 0.0805\n",
      "ECE: 0.4708 +/- 0.0084\n",
      "Acc: 0.0664 +/- 0.0033\n",
      "B\n",
      "NLL: 5.7095 +/- 0.0428\n",
      "ECE: 0.4840 +/- 0.0072\n",
      "Acc: 0.0596 +/- 0.0008\n",
      "I\n",
      "NLL: 5.9093 +/- 0.0367\n",
      "ECE: 0.5009 +/- 0.0017\n",
      "Acc: 0.0620 +/- 0.0022\n",
      "EE\n",
      "NLL: 5.0949 +/- 0.0297\n",
      "ECE: 0.4176 +/- 0.0021\n",
      "Acc: 0.0680 +/- 0.0018\n",
      "EI\n",
      "NLL: 5.1924 +/- 0.0391\n",
      "ECE: 0.4205 +/- 0.0017\n",
      "Acc: 0.0662 +/- 0.0032\n",
      "EEE\n",
      "NLL: 4.9638 +/- 0.0214\n",
      "ECE: 0.4052 +/- 0.0021\n",
      "Acc: 0.0673 +/- 0.0010\n",
      "EEI\n",
      "NLL: 4.9621 +/- 0.0133\n",
      "ECE: 0.3991 +/- 0.0024\n",
      "Acc: 0.0674 +/- 0.0020\n",
      "EEEE\n",
      "NLL: 4.8659 +/- 0.0043\n",
      "ECE: 0.3940 +/- 0.0008\n",
      "Acc: 0.0678 +/- 0.0007\n",
      "EEEI\n",
      "NLL: 4.8637 +/- 0.0169\n",
      "ECE: 0.3910 +/- 0.0024\n",
      "Acc: 0.0667 +/- 0.0015\n",
      "EEII\n",
      "NLL: 4.9003 +/- 0.0146\n",
      "ECE: 0.3916 +/- 0.0022\n",
      "Acc: 0.0654 +/- 0.0017\n",
      "use order B, I, E\n",
      "all equal best: 17.5%\n",
      "B,I equal best: 6.5%\n",
      "B,E equal best: 5.5%\n",
      "I,E equal best: 11.5%\n",
      "tensor(200)\n",
      "B uniquely best: 12.5%\n",
      "I uniquely best: 23.5%\n",
      "E uniquely best: 23.0%\n",
      "use order I, E\n",
      "all equal best: 36.5%\n",
      "I uniquely best: 32.5%\n",
      "E uniquely best: 31.0%\n"
     ]
    }
   ],
   "source": [
    "# ImageNet-Adv\n",
    "ds = 'adv'\n",
    "num_classes=200\n",
    "\n",
    "eq69 = torch.load(f\"./logits_files/eq69_eval_on_{ds}.pth\")\n",
    "eq42 = torch.load(f\"./logits_files/eq42_eval_on_{ds}.pth\")\n",
    "eq31 = torch.load(f\"./logits_files/eq31_eval_on_{ds}.pth\")\n",
    "eq24 = torch.load(f\"./logits_files/eq24_eval_on_{ds}.pth\")\n",
    "eq54 = torch.load(f\"./logits_files/eq54_eval_on_{ds}.pth\")\n",
    "eq96 = torch.load(f\"./logits_files/eq96_eval_on_{ds}.pth\")\n",
    "tar = torch.load(f\"./logits_files/{ds}_targets.pth\")\n",
    "\n",
    "baseR = torch.load(f\"./logits_files/baseR_eval_on_{ds}.pth\")\n",
    "base31 = torch.load(f\"./logits_files/base31_eval_on_{ds}.pth\")\n",
    "base24 = torch.load(f\"./logits_files/base24_eval_on_{ds}.pth\")\n",
    "base69 = torch.load(f\"./logits_files/base69_eval_on_{ds}.pth\")\n",
    "\n",
    "inv = torch.load(f\"./logits_files/inv_eval_on_{ds}.pth\")\n",
    "inv31 = torch.load(f\"./logits_files/inv31_eval_on_{ds}.pth\")\n",
    "inv24 = torch.load(f\"./logits_files/inv24_eval_on_{ds}.pth\")\n",
    "inv69 = torch.load(f\"./logits_files/inv69_eval_on_{ds}.pth\")\n",
    "\n",
    "all_eq = [eq69, eq42, eq31, eq24, eq54, eq96]\n",
    "tars = [tar, tar, tar, tar, tar, tar]\n",
    "names = ['eq69', 'eq42', 'eq31', 'eq24', 'eq54', 'eq96']\n",
    "_,_,_,all_eq_pcs = get_metrics(all_eq, tars, names, printing=False, input_softmax=False, num_classes=num_classes)\n",
    "\n",
    "all_base = [baseR, base69, base31, base24]\n",
    "tars = [tar, tar, tar, tar]\n",
    "names = ['baseR', 'base69','base31', 'base24']\n",
    "_,_,_,all_base_pcs = get_metrics(all_base, tars, names, printing=False, input_softmax=False, num_classes=num_classes)\n",
    "\n",
    "all_inv = [inv, inv69, inv31, inv24]\n",
    "tars = [tar, tar, tar, tar]\n",
    "names = ['inv', 'inv69','inv31', 'inv24']\n",
    "_,_,_,all_inv_pcs = get_metrics(all_inv, tars, names, printing=False, input_softmax=False, num_classes=num_classes)\n",
    "\n",
    "# 1 model\n",
    "ensem_BEI(all_eq,all_base,all_inv,tar,num_E=1, num_B=0, num_I=0)\n",
    "ensem_BEI(all_eq,all_base,all_inv,tar,num_E=0, num_B=1, num_I=0)\n",
    "ensem_BEI(all_eq,all_base,all_inv,tar,num_E=0, num_B=0, num_I=1)\n",
    "\n",
    "# 2 models\n",
    "ensem_BEI(all_eq,all_base,all_inv,tar,num_E=2, num_B=0, num_I=0)\n",
    "ensem_BEI(all_eq,all_base,all_inv,tar,num_E=1, num_B=0, num_I=1)\n",
    "\n",
    "# 3 models\n",
    "ensem_BEI(all_eq,all_base,all_inv,tar,num_E=3, num_B=0, num_I=0)\n",
    "ensem_BEI(all_eq,all_base,all_inv,tar,num_E=2, num_B=0, num_I=1)\n",
    "\n",
    "# 4 models\n",
    "ensem_BEI(all_eq,all_base,all_inv,tar,num_E=4, num_B=0, num_I=0)\n",
    "ensem_BEI(all_eq,all_base,all_inv,tar,num_E=3, num_B=0, num_I=1)\n",
    "ensem_BEI(all_eq,all_base,all_inv,tar,num_E=2, num_B=0, num_I=2)\n",
    "\n",
    "\n",
    "get_classwise(all_base_pcs[0], all_inv_pcs[0], all_eq_pcs[0], num_classes=num_classes)\n",
    "get_classwise_IE(all_inv_pcs[0], all_eq_pcs[0], num_classes=num_classes)"
   ]
  },
  {
   "cell_type": "code",
   "execution_count": 99,
   "id": "macro-clark",
   "metadata": {},
   "outputs": [
    {
     "name": "stdout",
     "output_type": "stream",
     "text": [
      "E\n",
      "NLL: 3.9422 +/- 0.0472\n",
      "ECE: 0.2063 +/- 0.0096\n",
      "Acc: 0.3583 +/- 0.0028\n",
      "B\n",
      "NLL: 4.0272 +/- 0.0125\n",
      "ECE: 0.2119 +/- 0.0058\n",
      "Acc: 0.3510 +/- 0.0017\n",
      "I\n",
      "NLL: 4.3708 +/- 0.0362\n",
      "ECE: 0.2458 +/- 0.0039\n",
      "Acc: 0.3241 +/- 0.0036\n",
      "EE\n",
      "NLL: 3.7025 +/- 0.0254\n",
      "ECE: 0.1495 +/- 0.0034\n",
      "Acc: 0.3760 +/- 0.0017\n",
      "EI\n",
      "NLL: 3.8320 +/- 0.0195\n",
      "ECE: 0.1566 +/- 0.0027\n",
      "Acc: 0.3648 +/- 0.0030\n",
      "EEE\n",
      "NLL: 3.6110 +/- 0.0078\n",
      "ECE: 0.1320 +/- 0.0017\n",
      "Acc: 0.3831 +/- 0.0013\n",
      "EEI\n",
      "NLL: 3.6542 +/- 0.0135\n",
      "ECE: 0.1275 +/- 0.0019\n",
      "Acc: 0.3769 +/- 0.0011\n",
      "EEEE\n",
      "NLL: 3.5513 +/- 0.0057\n",
      "ECE: 0.1193 +/- 0.0009\n",
      "Acc: 0.3877 +/- 0.0010\n",
      "EEEI\n",
      "NLL: 3.5924 +/- 0.0179\n",
      "ECE: 0.1142 +/- 0.0022\n",
      "Acc: 0.3837 +/- 0.0021\n",
      "EEII\n",
      "NLL: 3.6482 +/- 0.0106\n",
      "ECE: 0.1183 +/- 0.0019\n",
      "Acc: 0.3764 +/- 0.0014\n",
      "use order B, I, E\n",
      "all equal best: 0.0%\n",
      "B,I equal best: 0.5%\n",
      "B,E equal best: 6.0%\n",
      "I,E equal best: 2.5%\n",
      "tensor(200)\n",
      "B uniquely best: 33.5%\n",
      "I uniquely best: 12.0%\n",
      "E uniquely best: 45.5%\n",
      "use order I, E\n",
      "all equal best: 5.5%\n",
      "I uniquely best: 18.0%\n",
      "E uniquely best: 76.5%\n"
     ]
    }
   ],
   "source": [
    "# ImageNet-R\n",
    "ds = 'rend'\n",
    "eq69 = torch.load(f\"./logits_files/eq69_eval_on_{ds}.pth\")\n",
    "eq42 = torch.load(f\"./logits_files/eq42_eval_on_{ds}.pth\")\n",
    "eq31 = torch.load(f\"./logits_files/eq31_eval_on_{ds}.pth\")\n",
    "eq24 = torch.load(f\"./logits_files/eq24_eval_on_{ds}.pth\")\n",
    "eq54 = torch.load(f\"./logits_files/eq54_eval_on_{ds}.pth\")\n",
    "eq96 = torch.load(f\"./logits_files/eq96_eval_on_{ds}.pth\")\n",
    "tar = torch.load(f\"./logits_files/{ds}_targets.pth\")\n",
    "\n",
    "baseR = torch.load(f\"./logits_files/baseR_eval_on_{ds}.pth\")\n",
    "base31 = torch.load(f\"./logits_files/base31_eval_on_{ds}.pth\")\n",
    "base24 = torch.load(f\"./logits_files/base24_eval_on_{ds}.pth\")\n",
    "base69 = torch.load(f\"./logits_files/base69_eval_on_{ds}.pth\")\n",
    "\n",
    "inv = torch.load(f\"./logits_files/inv_eval_on_{ds}.pth\")\n",
    "inv31 = torch.load(f\"./logits_files/inv31_eval_on_{ds}.pth\")\n",
    "inv24 = torch.load(f\"./logits_files/inv24_eval_on_{ds}.pth\")\n",
    "inv69 = torch.load(f\"./logits_files/inv69_eval_on_{ds}.pth\")\n",
    "\n",
    "num_classes=200\n",
    "all_eq = [eq69, eq42, eq31, eq24, eq54, eq96]\n",
    "tars = [tar, tar, tar, tar, tar, tar]\n",
    "names = ['eq69', 'eq42', 'eq31', 'eq24', 'eq54', 'eq96']\n",
    "_,_,_,all_eq_pcs = get_metrics(all_eq, tars, names, printing=False, input_softmax=False, num_classes=num_classes)\n",
    "\n",
    "all_base = [baseR, base69, base31, base24]\n",
    "tars = [tar, tar, tar, tar]\n",
    "names = ['baseR', 'base69','base31', 'base24']\n",
    "_,_,_,all_base_pcs = get_metrics(all_base, tars, names, printing=False, input_softmax=False, num_classes=num_classes)\n",
    "\n",
    "all_inv = [inv, inv69, inv31, inv24]\n",
    "tars = [tar, tar, tar, tar]\n",
    "names = ['inv', 'inv69','inv31', 'inv24']\n",
    "_,_,_,all_inv_pcs = get_metrics(all_inv, tars, names, printing=False, input_softmax=False, num_classes=num_classes)\n",
    "\n",
    "# 1 model\n",
    "ensem_BEI(all_eq,all_base,all_inv,tar,num_E=1, num_B=0, num_I=0)\n",
    "ensem_BEI(all_eq,all_base,all_inv,tar,num_E=0, num_B=1, num_I=0)\n",
    "ensem_BEI(all_eq,all_base,all_inv,tar,num_E=0, num_B=0, num_I=1)\n",
    "\n",
    "# 2 models\n",
    "ensem_BEI(all_eq,all_base,all_inv,tar,num_E=2, num_B=0, num_I=0)\n",
    "ensem_BEI(all_eq,all_base,all_inv,tar,num_E=1, num_B=0, num_I=1)\n",
    "\n",
    "# 3 models\n",
    "ensem_BEI(all_eq,all_base,all_inv,tar,num_E=3, num_B=0, num_I=0)\n",
    "ensem_BEI(all_eq,all_base,all_inv,tar,num_E=2, num_B=0, num_I=1)\n",
    "\n",
    "# 4 models\n",
    "ensem_BEI(all_eq,all_base,all_inv,tar,num_E=4, num_B=0, num_I=0)\n",
    "ensem_BEI(all_eq,all_base,all_inv,tar,num_E=3, num_B=0, num_I=1)\n",
    "ensem_BEI(all_eq,all_base,all_inv,tar,num_E=2, num_B=0, num_I=2)\n",
    "\n",
    "\n",
    "get_classwise(all_base_pcs[0], all_inv_pcs[0], all_eq_pcs[0], num_classes=num_classes)\n",
    "get_classwise_IE(all_inv_pcs[0], all_eq_pcs[0], num_classes=num_classes)"
   ]
  },
  {
   "cell_type": "code",
   "execution_count": 102,
   "id": "mental-underground",
   "metadata": {},
   "outputs": [],
   "source": [
    "## Eval on subset\n",
    "eq69 = torch.load(f\"./logits_files/eq69.pth\")\n",
    "eq42 = torch.load(f\"./logits_files/eq42.pth\")\n",
    "eq31 = torch.load(f\"./logits_files/eq31.pth\")\n",
    "eq24 = torch.load(f\"./logits_files/eq24.pth\")\n",
    "eq54 = torch.load(f\"./logits_files/eq54.pth\")\n",
    "eq96 = torch.load(f\"./logits_files/eq96.pth\")\n",
    "tar = torch.load(f\"./logits_files/targets.pth\")\n",
    "\n",
    "baseR = torch.load(f\"./logits_files/baseR.pth\")\n",
    "base31 = torch.load(f\"./logits_files/base31.pth\")\n",
    "base24 = torch.load(f\"./logits_files/base24.pth\")\n",
    "base69 = torch.load(f\"./logits_files/base69.pth\")\n",
    "\n",
    "inv = torch.load(f\"./logits_files/inv.pth\")\n",
    "inv31 = torch.load(f\"./logits_files/inv31.pth\")\n",
    "inv24 = torch.load(f\"./logits_files/inv24.pth\")\n",
    "inv69 = torch.load(f\"./logits_files/inv69.pth\")\n",
    "\n",
    "num_classes=1000\n",
    "all_eq = [eq69, eq42, eq31, eq24, eq54, eq96]\n",
    "tars = [tar, tar, tar, tar, tar, tar]\n",
    "names = ['eq69', 'eq42', 'eq31', 'eq24', 'eq54', 'eq96']\n",
    "_,_,_,all_eq_pcs = get_metrics(all_eq, tars, names, printing=False, input_softmax=False, num_classes=1000)\n",
    "\n",
    "all_base = [baseR, base69, base31, base24]\n",
    "tars = [tar, tar, tar, tar]\n",
    "names = ['baseR', 'base69','base31', 'base24']\n",
    "_,_,_,all_base_pcs = get_metrics(all_base, tars, names, printing=False, input_softmax=False, num_classes=1000)\n",
    "\n",
    "all_inv = [inv, inv69, inv31, inv24]\n",
    "tars = [tar, tar, tar, tar]\n",
    "names = ['inv', 'inv69','inv31', 'inv24']\n",
    "_,_,_,all_inv_pcs = get_metrics(all_inv, tars, names, printing=False, input_softmax=False, num_classes=1000)\n"
   ]
  },
  {
   "cell_type": "code",
   "execution_count": 149,
   "id": "burning-research",
   "metadata": {},
   "outputs": [
    {
     "name": "stdout",
     "output_type": "stream",
     "text": [
      "all equal best: 17.3%\n",
      "I uniquely best: 34.5%\n",
      "E uniquely best: 48.2%\n"
     ]
    }
   ],
   "source": [
    "ind = 0\n",
    "fac = 10\n",
    "best_inv_eq = (all_eq_pcs[ind] == all_inv_pcs[ind])\n",
    "print(f\"all equal best: {(best_inv_eq.sum())/fac:.1f}%\")\n",
    "\n",
    "i_uniq = (all_inv_pcs[ind] > all_eq_pcs[ind]) \n",
    "e_uniq = (all_eq_pcs[ind] > all_inv_pcs[ind]) \n",
    "\n",
    "# single model uniquely best\n",
    "print(f\"I uniquely best: {i_uniq.sum()/fac:.1f}%\")\n",
    "print(f\"E uniquely best: {e_uniq.sum()/fac:.1f}%\")\n",
    "\n",
    "i_best_classes = np.where(i_uniq.numpy())[0]\n",
    "e_best_classes = np.where(e_uniq.numpy())[0]\n",
    "\n"
   ]
  },
  {
   "cell_type": "code",
   "execution_count": 153,
   "id": "cultural-think",
   "metadata": {},
   "outputs": [
    {
     "name": "stdout",
     "output_type": "stream",
     "text": [
      "ss_Ibest_EE\n",
      "NLL: 6.230129718780518 | ECE: 0.758531137266257\n",
      "Acc: 0.7607536315917969\n",
      "ss_Ibest_EI\n",
      "NLL: 6.226792335510254 | ECE: 0.7704773675595963\n",
      "Acc: 0.7726956605911255\n"
     ]
    }
   ],
   "source": [
    "out_e = all_eq[ind]\n",
    "out_i = all_inv[ind]\n",
    "out_e2 = all_eq[1]\n",
    "\n",
    "new_tar = []\n",
    "new_out_e = []\n",
    "new_out_i = []\n",
    "new_out_e2 = []\n",
    "\n",
    "for i,(t,logit,logit_i,logit_e2) in enumerate(zip(tar,out_e,out_i,out_e2)):\n",
    "    if t.item() not in i_best_classes:\n",
    "        continue\n",
    "    new_tar.append(t.item())\n",
    "    new_out_e.append(logit.unsqueeze(0))\n",
    "    new_out_i.append(logit_i.unsqueeze(0))\n",
    "    new_out_e2.append(logit_e2.unsqueeze(0))\n",
    "    \n",
    "new_tar = torch.Tensor(new_tar).long()\n",
    "new_out_e = torch.cat(new_out_e)\n",
    "new_out_i = torch.cat(new_out_i)\n",
    "new_out_e2 = torch.cat(new_out_e2)\n",
    "\n",
    "get_metrics([(new_out_e.softmax(-1)+new_out_e2.softmax(-1))/2],[new_tar],['ss_Ibest_EE'])\n",
    "_=get_metrics([(new_out_e.softmax(-1)+new_out_i.softmax(-1))/2],[new_tar],['ss_Ibest_EI'])\n"
   ]
  },
  {
   "cell_type": "code",
   "execution_count": 155,
   "id": "retired-tampa",
   "metadata": {},
   "outputs": [
    {
     "name": "stdout",
     "output_type": "stream",
     "text": [
      "ss_Ebest_EE\n",
      "NLL: 6.212159633636475 | ECE: 0.7812798017656858\n",
      "Acc: 0.7835269570350647\n",
      "ss_Ebest_EI\n",
      "NLL: 6.222558975219727 | ECE: 0.7702571735490177\n",
      "Acc: 0.772489607334137\n"
     ]
    }
   ],
   "source": [
    "out_e = all_eq[ind]\n",
    "out_i = all_inv[ind]\n",
    "out_e2 = all_eq[1]\n",
    "\n",
    "new_tar = []\n",
    "new_out_e = []\n",
    "new_out_i = []\n",
    "new_out_e2 = []\n",
    "\n",
    "for i,(t,logit,logit_i,logit_e2) in enumerate(zip(tar,out_e,out_i,out_e2)):\n",
    "    if t.item() not in e_best_classes:\n",
    "        continue\n",
    "    new_tar.append(t.item())\n",
    "    new_out_e.append(logit.unsqueeze(0))\n",
    "    new_out_i.append(logit_i.unsqueeze(0))\n",
    "    new_out_e2.append(logit_e2.unsqueeze(0))\n",
    "    \n",
    "new_tar = torch.Tensor(new_tar).long()\n",
    "new_out_e = torch.cat(new_out_e)\n",
    "new_out_i = torch.cat(new_out_i)\n",
    "new_out_e2 = torch.cat(new_out_e2)\n",
    "\n",
    "get_metrics([(new_out_e.softmax(-1)+new_out_e2.softmax(-1))/2],[new_tar],['ss_Ebest_EE'])\n",
    "_=get_metrics([(new_out_e.softmax(-1)+new_out_i.softmax(-1))/2],[new_tar],['ss_Ebest_EI'])\n"
   ]
  },
  {
   "cell_type": "code",
   "execution_count": 156,
   "id": "abandoned-thailand",
   "metadata": {},
   "outputs": [
    {
     "data": {
      "text/plain": [
       "['eq69', 'out', '_127', 'out_e']"
      ]
     },
     "execution_count": 156,
     "metadata": {},
     "output_type": "execute_result"
    }
   ],
   "source": [
    "## Greedy Ensembles\n",
    "\n",
    "def retrieve_name(var):\n",
    "    callers_local_vars = inspect.currentframe().f_back.f_locals.items()\n",
    "    return [var_name for var_name, var_val in callers_local_vars if var_val is var]\n",
    "\n",
    "retrieve_name(eq69)"
   ]
  },
  {
   "cell_type": "code",
   "execution_count": 161,
   "id": "suited-registration",
   "metadata": {},
   "outputs": [],
   "source": [
    "ensemble = [eq69]\n",
    "sm_ensemble = [model.softmax(-1) for model in ensemble]\n",
    "out = torch.stack(sm_ensemble).mean(0)\n",
    "\n",
    "all_eq = [eq69, eq42, eq31, eq24, eq54, eq96]"
   ]
  },
  {
   "cell_type": "code",
   "execution_count": 167,
   "id": "remarkable-illness",
   "metadata": {},
   "outputs": [
    {
     "name": "stdout",
     "output_type": "stream",
     "text": [
      "E\n",
      "NLL: 6.2074408531188965 | ECE: 0.7665341991586587\n",
      "Acc: 0.7688199877738953\n",
      "E\n",
      "NLL: 6.20792293548584 | ECE: 0.7805063570009172\n",
      "Acc: 0.7827600240707397\n",
      "E\n",
      "NLL: 6.208384990692139 | ECE: 0.7808674368203222\n",
      "Acc: 0.7831199765205383\n",
      "E\n",
      "NLL: 6.206989765167236 | ECE: 0.7799027849253919\n",
      "Acc: 0.7821599841117859\n",
      "E\n",
      "NLL: 6.208188533782959 | ECE: 0.7804272158351355\n",
      "Acc: 0.7826799750328064\n",
      "E\n",
      "NLL: 6.21602201461792 | ECE: 0.7779447253633825\n",
      "Acc: 0.7801799774169922\n",
      "['eq31', 'm']\n",
      "0.7831199765205383\n"
     ]
    }
   ],
   "source": [
    "best_acc = 0\n",
    "for m in all_eq:\n",
    "    ensemble = [eq69] \n",
    "    ensemble.append(m)\n",
    "    sm_ensemble = [model.softmax(-1) for model in ensemble]\n",
    "    out = torch.stack(sm_ensemble).mean(0)\n",
    "    _,_,[acc],_ =get_metrics([out],[tar],['E'],printing=False)\n",
    "    if acc > best_acc:\n",
    "        best_acc = acc\n",
    "        mem_name = retrieve_name(m)\n",
    "print(mem_name)\n",
    "print(best_acc)\n",
    "    "
   ]
  },
  {
   "cell_type": "code",
   "execution_count": 169,
   "id": "alternate-questionnaire",
   "metadata": {},
   "outputs": [
    {
     "name": "stdout",
     "output_type": "stream",
     "text": [
      "E\n",
      "NLL: 6.208384990692139 | ECE: 0.7808674368203222\n",
      "Acc: 0.7831199765205383\n"
     ]
    }
   ],
   "source": [
    "ensemble = [eq69,eq31]\n",
    "sm_ensemble = [model.softmax(-1) for model in ensemble]\n",
    "out = torch.stack(sm_ensemble).mean(0)\n",
    "_,_,[acc],_ =get_metrics([out],[tar],['E'])\n"
   ]
  },
  {
   "cell_type": "code",
   "execution_count": 170,
   "id": "subsequent-significance",
   "metadata": {},
   "outputs": [
    {
     "name": "stdout",
     "output_type": "stream",
     "text": [
      "['eq24', 'm']\n",
      "0.7887399792671204\n"
     ]
    }
   ],
   "source": [
    "best_acc = 0\n",
    "for m in all_eq:\n",
    "    ensemble = [eq69,eq31]\n",
    "    ensemble.append(m)\n",
    "    sm_ensemble = [model.softmax(-1) for model in ensemble]\n",
    "    out = torch.stack(sm_ensemble).mean(0)\n",
    "    _,_,[acc],_ =get_metrics([out],[tar],['E'],printing=False)\n",
    "    if acc > best_acc:\n",
    "        best_acc = acc\n",
    "        mem_name = retrieve_name(m)\n",
    "print(mem_name)\n",
    "print(best_acc)"
   ]
  },
  {
   "cell_type": "code",
   "execution_count": 171,
   "id": "continued-wallpaper",
   "metadata": {},
   "outputs": [
    {
     "name": "stdout",
     "output_type": "stream",
     "text": [
      "['eq42', 'out_e2', 'm']\n",
      "0.7910000085830688\n"
     ]
    }
   ],
   "source": [
    "best_acc = 0\n",
    "for m in all_eq:\n",
    "    ensemble = [eq69,eq31,eq24]\n",
    "    ensemble.append(m)\n",
    "    sm_ensemble = [model.softmax(-1) for model in ensemble]\n",
    "    out = torch.stack(sm_ensemble).mean(0)\n",
    "    _,_,[acc],_ =get_metrics([out],[tar],['E'],printing=False)\n",
    "    if acc > best_acc:\n",
    "        best_acc = acc\n",
    "        mem_name = retrieve_name(m)\n",
    "print(mem_name)\n",
    "print(best_acc)"
   ]
  },
  {
   "cell_type": "code",
   "execution_count": 172,
   "id": "narrow-neighborhood",
   "metadata": {},
   "outputs": [
    {
     "name": "stdout",
     "output_type": "stream",
     "text": [
      "['eq54', 'm']\n",
      "0.7917199730873108\n"
     ]
    }
   ],
   "source": [
    "best_acc = 0\n",
    "for m in all_eq:\n",
    "    ensemble = [eq69,eq31,eq24,eq42]\n",
    "    ensemble.append(m)\n",
    "    sm_ensemble = [model.softmax(-1) for model in ensemble]\n",
    "    out = torch.stack(sm_ensemble).mean(0)\n",
    "    _,_,[acc],_ =get_metrics([out],[tar],['E'],printing=False)\n",
    "    if acc > best_acc:\n",
    "        best_acc = acc\n",
    "        mem_name = retrieve_name(m)\n",
    "print(mem_name)\n",
    "print(best_acc)"
   ]
  },
  {
   "cell_type": "code",
   "execution_count": 177,
   "id": "capable-bermuda",
   "metadata": {},
   "outputs": [
    {
     "name": "stdout",
     "output_type": "stream",
     "text": [
      "['eq96', 'm']\n",
      "0.7917600274085999\n"
     ]
    }
   ],
   "source": [
    "best_acc = 0\n",
    "for m in all_eq:\n",
    "    ensemble = [eq69,eq31,eq24,eq42,eq54]\n",
    "    ensemble.append(m)\n",
    "    sm_ensemble = [model.softmax(-1) for model in ensemble]\n",
    "    out = torch.stack(sm_ensemble).mean(0)\n",
    "    _,_,[acc],_ =get_metrics([out],[tar],['E'],printing=False)\n",
    "    if acc > best_acc:\n",
    "        best_acc = acc\n",
    "        mem_name = retrieve_name(m)\n",
    "print(mem_name)\n",
    "print(best_acc)"
   ]
  },
  {
   "cell_type": "code",
   "execution_count": 173,
   "id": "criminal-springer",
   "metadata": {},
   "outputs": [
    {
     "name": "stdout",
     "output_type": "stream",
     "text": [
      "['inv31', 'm']\n",
      "0.7833799719810486\n"
     ]
    }
   ],
   "source": [
    "all_ei = all_eq + all_inv\n",
    "best_acc = 0\n",
    "for m in all_ei:\n",
    "    ensemble = [eq69] \n",
    "    ensemble.append(m)\n",
    "    sm_ensemble = [model.softmax(-1) for model in ensemble]\n",
    "    out = torch.stack(sm_ensemble).mean(0)\n",
    "    _,_,[acc],_ =get_metrics([out],[tar],['E'],printing=False)\n",
    "    if acc > best_acc:\n",
    "        best_acc = acc\n",
    "        mem_name = retrieve_name(m)\n",
    "print(mem_name)\n",
    "print(best_acc)"
   ]
  },
  {
   "cell_type": "code",
   "execution_count": 174,
   "id": "difficult-tiger",
   "metadata": {},
   "outputs": [
    {
     "name": "stdout",
     "output_type": "stream",
     "text": [
      "['eq54', 'm']\n",
      "0.7898399829864502\n"
     ]
    }
   ],
   "source": [
    "best_acc = 0\n",
    "for m in all_ei:\n",
    "    ensemble = [eq69,inv31] \n",
    "    ensemble.append(m)\n",
    "    sm_ensemble = [model.softmax(-1) for model in ensemble]\n",
    "    out = torch.stack(sm_ensemble).mean(0)\n",
    "    _,_,[acc],_ =get_metrics([out],[tar],['E'],printing=False)\n",
    "    if acc > best_acc:\n",
    "        best_acc = acc\n",
    "        mem_name = retrieve_name(m)\n",
    "print(mem_name)\n",
    "print(best_acc)"
   ]
  },
  {
   "cell_type": "code",
   "execution_count": 175,
   "id": "handled-stewart",
   "metadata": {},
   "outputs": [
    {
     "name": "stdout",
     "output_type": "stream",
     "text": [
      "['eq31', 'm']\n",
      "0.7929400205612183\n"
     ]
    }
   ],
   "source": [
    "best_acc = 0\n",
    "for m in all_ei:\n",
    "    ensemble = [eq69,inv31,eq54] \n",
    "    ensemble.append(m)\n",
    "    sm_ensemble = [model.softmax(-1) for model in ensemble]\n",
    "    out = torch.stack(sm_ensemble).mean(0)\n",
    "    _,_,[acc],_ =get_metrics([out],[tar],['E'],printing=False)\n",
    "    if acc > best_acc:\n",
    "        best_acc = acc\n",
    "        mem_name = retrieve_name(m)\n",
    "print(mem_name)\n",
    "print(best_acc)"
   ]
  },
  {
   "cell_type": "code",
   "execution_count": 176,
   "id": "careful-score",
   "metadata": {},
   "outputs": [
    {
     "name": "stdout",
     "output_type": "stream",
     "text": [
      "['inv', 'out_i', 'm']\n",
      "0.79475998878479\n"
     ]
    }
   ],
   "source": [
    "best_acc = 0\n",
    "for m in all_ei:\n",
    "    ensemble = [eq69,inv31,eq54,eq31] \n",
    "    ensemble.append(m)\n",
    "    sm_ensemble = [model.softmax(-1) for model in ensemble]\n",
    "    out = torch.stack(sm_ensemble).mean(0)\n",
    "    _,_,[acc],_ =get_metrics([out],[tar],['E'],printing=False)\n",
    "    if acc > best_acc:\n",
    "        best_acc = acc\n",
    "        mem_name = retrieve_name(m)\n",
    "print(mem_name)\n",
    "print(best_acc)"
   ]
  },
  {
   "cell_type": "code",
   "execution_count": 178,
   "id": "descending-salvation",
   "metadata": {},
   "outputs": [
    {
     "name": "stdout",
     "output_type": "stream",
     "text": [
      "['eq42', 'out_e2', 'm']\n",
      "0.7957599759101868\n"
     ]
    }
   ],
   "source": [
    "best_acc = 0\n",
    "for m in all_ei:\n",
    "    ensemble = [eq69,inv31,eq54,eq31,inv] \n",
    "    ensemble.append(m)\n",
    "    sm_ensemble = [model.softmax(-1) for model in ensemble]\n",
    "    out = torch.stack(sm_ensemble).mean(0)\n",
    "    _,_,[acc],_ =get_metrics([out],[tar],['E'],printing=False)\n",
    "    if acc > best_acc:\n",
    "        best_acc = acc\n",
    "        mem_name = retrieve_name(m)\n",
    "print(mem_name)\n",
    "print(best_acc)"
   ]
  },
  {
   "cell_type": "code",
   "execution_count": 182,
   "id": "subtle-medline",
   "metadata": {},
   "outputs": [
    {
     "name": "stdout",
     "output_type": "stream",
     "text": [
      "['inv24', 'm']\n",
      "0.795960009098053\n"
     ]
    }
   ],
   "source": [
    "best_acc = 0\n",
    "for m in all_ei:\n",
    "    ensemble = [eq69,inv31,eq54,eq31,inv,eq42] \n",
    "    ensemble.append(m)\n",
    "    sm_ensemble = [model.softmax(-1) for model in ensemble]\n",
    "    out = torch.stack(sm_ensemble).mean(0)\n",
    "    _,_,[acc],_ =get_metrics([out],[tar],['E'],printing=False)\n",
    "    if acc > best_acc:\n",
    "        best_acc = acc\n",
    "        mem_name = retrieve_name(m)\n",
    "print(mem_name)\n",
    "print(best_acc)"
   ]
  },
  {
   "cell_type": "code",
   "execution_count": 64,
   "id": "armed-trust",
   "metadata": {},
   "outputs": [],
   "source": [
    "greedy_E = [0.7831199765205383,0.7887399792671204,0.7910000085830688,0.7917199730873108,0.7917600274085999]\n",
    "greedy_EI = [0.7833799719810486,0.7898399829864502,0.7929400205612183,0.79475998878479,0.7957599759101868,0.795960009098053]"
   ]
  },
  {
   "cell_type": "code",
   "execution_count": 72,
   "id": "ad1ed780",
   "metadata": {},
   "outputs": [
    {
     "name": "stdout",
     "output_type": "stream",
     "text": [
      "5 4\n"
     ]
    }
   ],
   "source": [
    "print(len(greedy_E), len(x))"
   ]
  },
  {
   "cell_type": "code",
   "execution_count": 83,
   "id": "athletic-things",
   "metadata": {},
   "outputs": [
    {
     "data": {
      "image/png": "[encoded data removed]",
      "text/plain": [
       "<Figure size 288x216 with 1 Axes>"
      ]
     },
     "metadata": {
      "needs_background": "light"
     },
     "output_type": "display_data"
    },
    {
     "data": {
      "image/png": "[encoded data removed]",
      "text/plain": [
       "<Figure size 432x288 with 1 Axes>"
      ]
     },
     "metadata": {
      "needs_background": "light"
     },
     "output_type": "display_data"
    }
   ],
   "source": [
    "import matplotlib.pyplot as plt\n",
    "import numpy as np\n",
    "plt.figure(figsize=(4,3))\n",
    "x = np.arange(2,7)\n",
    "plt.plot(x,np.array(greedy_E)*100,label='greedy EE')\n",
    "x = np.arange(2,8)\n",
    "plt.plot(x,np.array(greedy_EI)*100,label='greedy EI')\n",
    "plt.legend()\n",
    "plt.xticks(x)\n",
    "plt.xlabel(\"# of models\")\n",
    "plt.ylabel(\"Ensem. Acc. (%)\")\n",
    "plt.legend()\n",
    "plt.tight_layout()\n",
    "plt.savefig(\"EvsEI_greedy.pdf\")\n",
    "\n",
    "import matplotlib.pyplot as plt\n",
    "import numpy as np\n",
    "plt.figure()\n",
    "x = np.arange(2,7)\n",
    "plt.plot(x,np.array(greedy_E)*100,label='greedy EE')\n",
    "x = np.arange(2,8)\n",
    "plt.plot(x,np.array(greedy_EI)*100,label='greedy EI')\n",
    "plt.legend()\n",
    "plt.xticks(x)\n",
    "plt.xlabel(\"# of models\")\n",
    "plt.ylabel(\"Ensem. Acc. (%)\")\n",
    "plt.legend()\n",
    "plt.tight_layout()\n",
    "plt.savefig(\"EvsEI_greedy2.pdf\")"
   ]
  },
  {
   "cell_type": "code",
   "execution_count": null,
   "id": "representative-aerospace",
   "metadata": {},
   "outputs": [],
   "source": [
    "greedyEI = [eq69,inv31,eq54,eq31,inv,eq42, inv24]\n",
    "greedyEE = [eq69,eq31,eq24,eq42,eq54,eq96]\n"
   ]
  },
  {
   "cell_type": "code",
   "execution_count": 191,
   "id": "applied-mandate",
   "metadata": {},
   "outputs": [
    {
     "name": "stdout",
     "output_type": "stream",
     "text": [
      "v2 num_models  2\n",
      "EE: 0.6625999808311462, EI: 0.6589999794960022\n",
      "v2 num_models  3\n",
      "EE: 0.66839998960495, EI: 0.6685000061988831\n",
      "v2 num_models  4\n",
      "EE: 0.6726999878883362, EI: 0.6714000105857849\n",
      "v2 num_models  5\n",
      "EE: 0.6723999977111816, EI: 0.6715999841690063\n",
      "sketch num_models  2\n",
      "EE: 0.2582090497016907, EI: 0.24480733275413513\n",
      "sketch num_models  3\n",
      "EE: 0.2630823850631714, EI: 0.25838589668273926\n",
      "sketch num_models  4\n",
      "EE: 0.26490989327430725, EI: 0.2642024755477905\n",
      "sketch num_models  5\n",
      "EE: 0.26860421895980835, EI: 0.26418283581733704\n"
     ]
    }
   ],
   "source": [
    "# M = 2\n",
    "# ds = 'v2'\n",
    "for ds in ['v2', 'sketch']:\n",
    "    for M in range(2,6):\n",
    "        print(ds, \"num_models \", M)\n",
    "        num_classes=1000\n",
    "\n",
    "        eq69 = torch.load(f\"./logits_files/eq69_eval_on_{ds}.pth\")\n",
    "        eq42 = torch.load(f\"./logits_files/eq42_eval_on_{ds}.pth\")\n",
    "        eq31 = torch.load(f\"./logits_files/eq31_eval_on_{ds}.pth\")\n",
    "        eq24 = torch.load(f\"./logits_files/eq24_eval_on_{ds}.pth\")\n",
    "        eq54 = torch.load(f\"./logits_files/eq54_eval_on_{ds}.pth\")\n",
    "        eq96 = torch.load(f\"./logits_files/eq96_eval_on_{ds}.pth\")\n",
    "        tar = torch.load(f\"./logits_files/{ds}_targets.pth\")\n",
    "\n",
    "        inv = torch.load(f\"./logits_files/inv_eval_on_{ds}.pth\")\n",
    "        inv31 = torch.load(f\"./logits_files/inv31_eval_on_{ds}.pth\")\n",
    "        inv24 = torch.load(f\"./logits_files/inv24_eval_on_{ds}.pth\")\n",
    "        inv69 = torch.load(f\"./logits_files/inv69_eval_on_{ds}.pth\")\n",
    "\n",
    "        greedyEI = [eq69,inv31,eq54,eq31,inv,eq42, inv24]\n",
    "        greedyEE = [eq69,eq31,eq24,eq42,eq54,eq96]\n",
    "\n",
    "        sm_ei = [model.softmax(-1) for model in greedyEI[:M]]\n",
    "        sm_ee = [model.softmax(-1) for model in greedyEE[:M]]\n",
    "\n",
    "        out = torch.stack(sm_ei).mean(0)\n",
    "        _,_,[ei_acc],_ =get_metrics([out],[tar],['EI'],printing=False)\n",
    "        out = torch.stack(sm_ee).mean(0)\n",
    "        _,_,[ee_acc],_ =get_metrics([out],[tar],['EE'],printing=False)\n",
    "        print(f\"EE: {ee_acc}, EI: {ei_acc}\")\n"
   ]
  },
  {
   "cell_type": "code",
   "execution_count": 192,
   "id": "rapid-robinson",
   "metadata": {},
   "outputs": [
    {
     "name": "stdout",
     "output_type": "stream",
     "text": [
      "adv num_models  2\n",
      "EE: 0.07079999893903732, EI: 0.06986666470766068\n",
      "adv num_models  3\n",
      "EE: 0.06920000165700912, EI: 0.06639999896287918\n",
      "adv num_models  4\n",
      "EE: 0.07013333588838577, EI: 0.06719999760389328\n",
      "adv num_models  5\n",
      "EE: 0.06906666606664658, EI: 0.06759999692440033\n",
      "rend num_models  2\n",
      "EE: 0.3796333372592926, EI: 0.3677000105381012\n",
      "rend num_models  3\n",
      "EE: 0.38483333587646484, EI: 0.3797999918460846\n",
      "rend num_models  4\n",
      "EE: 0.38856667280197144, EI: 0.3864000141620636\n",
      "rend num_models  5\n",
      "EE: 0.38993334770202637, EI: 0.3842333257198334\n"
     ]
    }
   ],
   "source": [
    "for ds in ['adv', 'rend']:\n",
    "    for M in range(2,6):\n",
    "        print(ds, \"num_models \", M)\n",
    "        num_classes=200\n",
    "\n",
    "        eq69 = torch.load(f\"./logits_files/eq69_eval_on_{ds}.pth\")\n",
    "        eq42 = torch.load(f\"./logits_files/eq42_eval_on_{ds}.pth\")\n",
    "        eq31 = torch.load(f\"./logits_files/eq31_eval_on_{ds}.pth\")\n",
    "        eq24 = torch.load(f\"./logits_files/eq24_eval_on_{ds}.pth\")\n",
    "        eq54 = torch.load(f\"./logits_files/eq54_eval_on_{ds}.pth\")\n",
    "        eq96 = torch.load(f\"./logits_files/eq96_eval_on_{ds}.pth\")\n",
    "        tar = torch.load(f\"./logits_files/{ds}_targets.pth\")\n",
    "\n",
    "        inv = torch.load(f\"./logits_files/inv_eval_on_{ds}.pth\")\n",
    "        inv31 = torch.load(f\"./logits_files/inv31_eval_on_{ds}.pth\")\n",
    "        inv24 = torch.load(f\"./logits_files/inv24_eval_on_{ds}.pth\")\n",
    "        inv69 = torch.load(f\"./logits_files/inv69_eval_on_{ds}.pth\")\n",
    "\n",
    "        greedyEI = [eq69,inv31,eq54,eq31,inv,eq42, inv24]\n",
    "        greedyEE = [eq69,eq31,eq24,eq42,eq54,eq96]\n",
    "\n",
    "        sm_ei = [model.softmax(-1) for model in greedyEI[:M]]\n",
    "        sm_ee = [model.softmax(-1) for model in greedyEE[:M]]\n",
    "\n",
    "        out = torch.stack(sm_ei).mean(0)\n",
    "        _,_,[ei_acc],_ =get_metrics([out],[tar],['EI'],printing=False,num_classes=num_classes)\n",
    "        out = torch.stack(sm_ee).mean(0)\n",
    "        _,_,[ee_acc],_ =get_metrics([out],[tar],['EE'],printing=False,num_classes=num_classes)\n",
    "        print(f\"EE: {ee_acc}, EI: {ei_acc}\")"
   ]
  },
  {
   "cell_type": "code",
   "execution_count": null,
   "id": "personalized-setting",
   "metadata": {},
   "outputs": [],
   "source": []
  }
 ],
 "metadata": {
  "kernelspec": {
   "display_name": "Python 3 (ipykernel)",
   "language": "python",
   "name": "python3"
  },
  "language_info": {
   "codemirror_mode": {
    "name": "ipython",
    "version": 3
   },
   "file_extension": ".py",
   "mimetype": "text/x-python",
   "name": "python",
   "nbconvert_exporter": "python",
   "pygments_lexer": "ipython3",
   "version": "3.8.13"
  },
  "latex_envs": {
   "LaTeX_envs_menu_present": true,
   "autoclose": false,
   "autocomplete": true,
   "bibliofile": "biblio.bib",
   "cite_by": "apalike",
   "current_citInitial": 1,
   "eqLabelWithNumbers": true,
   "eqNumInitial": 1,
   "hotkeys": {
    "equation": "Ctrl-E",
    "itemize": "Ctrl-I"
   },
   "labels_anchors": false,
   "latex_user_defs": false,
   "report_style_numbering": false,
   "user_envs_cfg": false
  },
  "toc": {
   "base_numbering": 1,
   "nav_menu": {},
   "number_sections": true,
   "sideBar": true,
   "skip_h1_title": false,
   "title_cell": "Table of Contents",
   "title_sidebar": "Contents",
   "toc_cell": false,
   "toc_position": {},
   "toc_section_display": true,
   "toc_window_display": false
  }
 },
 "nbformat": 4,
 "nbformat_minor": 5
}
